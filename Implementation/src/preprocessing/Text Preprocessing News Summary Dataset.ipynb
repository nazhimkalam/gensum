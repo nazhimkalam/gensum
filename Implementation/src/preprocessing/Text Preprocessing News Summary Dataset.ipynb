{
 "cells": [
  {
   "cell_type": "code",
   "execution_count": 38,
   "id": "84d30e9c",
   "metadata": {},
   "outputs": [
    {
     "name": "stdout",
     "output_type": "stream",
     "text": [
      "Collecting contractions\n",
      "  Downloading contractions-0.1.72-py2.py3-none-any.whl (8.3 kB)\n",
      "Collecting textsearch>=0.0.21\n",
      "  Downloading textsearch-0.0.24-py2.py3-none-any.whl (7.6 kB)\n",
      "Collecting pyahocorasick\n",
      "  Downloading pyahocorasick-1.4.4-cp37-cp37m-win_amd64.whl (39 kB)\n",
      "Collecting anyascii\n",
      "  Downloading anyascii-0.3.1-py3-none-any.whl (287 kB)\n",
      "     ------------------------------------ 287.5/287.5 kB 172.3 kB/s eta 0:00:00\n",
      "Installing collected packages: pyahocorasick, anyascii, textsearch, contractions\n",
      "Successfully installed anyascii-0.3.1 contractions-0.1.72 pyahocorasick-1.4.4 textsearch-0.0.24\n",
      "Note: you may need to restart the kernel to use updated packages.\n"
     ]
    },
    {
     "name": "stderr",
     "output_type": "stream",
     "text": [
      "\n",
      "[notice] A new release of pip available: 22.2.2 -> 22.3.1\n",
      "[notice] To update, run: python.exe -m pip install --upgrade pip\n"
     ]
    }
   ],
   "source": [
    "pip install contractions"
   ]
  },
  {
   "cell_type": "code",
   "execution_count": 148,
   "id": "588c5ef1",
   "metadata": {},
   "outputs": [],
   "source": [
    "import pandas as pd\n",
    "import contractions\n",
    "import nltk"
   ]
  },
  {
   "cell_type": "code",
   "execution_count": 149,
   "id": "0ceeaa92",
   "metadata": {},
   "outputs": [],
   "source": [
    "# Dataset\n",
    "newsSummaryPath = \"../../dataset/news_summary/news_summary.csv\"\n",
    "moviePath = {\n",
    "    \"small\": \"../../dataset/movie/movie_reviews_small.csv\",\n",
    "    \"medium\": \"../../dataset/movie/movie_reviews_medium.csv\"\n",
    "}\n",
    "gigawordPath = {\n",
    "    \"medium\": \"../../dataset/generalization/gigaword_medium.csv\",\n",
    "    \"large\": \"../../dataset/generalization/gigaword_large.csv\",\n",
    "    \"xlarge\": \"../../dataset/generalization/gigaword_xlarge.csv\",\n",
    "    \"xxlarge\": \"../../dataset/generalization/gigaword_xxlarge.csv\"\n",
    "}"
   ]
  },
  {
   "cell_type": "code",
   "execution_count": 150,
   "id": "e522515b",
   "metadata": {},
   "outputs": [],
   "source": [
    "newsSummaryDataset = pd.read_csv(newsSummaryPath, encoding='latin-1')\n",
    "movieSmallDataset = pd.read_csv(moviePath[\"small\"], encoding='latin-1')\n",
    "movieMediumDataset = pd.read_csv(moviePath[\"medium\"], encoding='latin-1')\n",
    "gigawordMediumDataset = pd.read_csv(gigawordPath[\"medium\"], encoding='latin-1')\n",
    "gigawordLargeDataset = pd.read_csv(gigawordPath[\"large\"], encoding='latin-1')\n",
    "gigawordXLargeDataset = pd.read_csv(gigawordPath[\"xlarge\"], encoding='latin-1')\n",
    "gigawordXXLargeDataset = pd.read_csv(gigawordPath[\"xxlarge\"], encoding='latin-1')"
   ]
  },
  {
   "cell_type": "markdown",
   "id": "38cfa9e9",
   "metadata": {},
   "source": [
    "### Text Preprocessing News Summary Dataset\n"
   ]
  },
  {
   "cell_type": "code",
   "execution_count": 151,
   "id": "c91ce28d",
   "metadata": {},
   "outputs": [
    {
     "data": {
      "text/html": [
       "<div>\n",
       "<style scoped>\n",
       "    .dataframe tbody tr th:only-of-type {\n",
       "        vertical-align: middle;\n",
       "    }\n",
       "\n",
       "    .dataframe tbody tr th {\n",
       "        vertical-align: top;\n",
       "    }\n",
       "\n",
       "    .dataframe thead th {\n",
       "        text-align: right;\n",
       "    }\n",
       "</style>\n",
       "<table border=\"1\" class=\"dataframe\">\n",
       "  <thead>\n",
       "    <tr style=\"text-align: right;\">\n",
       "      <th></th>\n",
       "      <th>text</th>\n",
       "      <th>ctext</th>\n",
       "    </tr>\n",
       "  </thead>\n",
       "  <tbody>\n",
       "    <tr>\n",
       "      <th>0</th>\n",
       "      <td>The Administration of Union Territory Daman an...</td>\n",
       "      <td>The Daman and Diu administration on Wednesday ...</td>\n",
       "    </tr>\n",
       "    <tr>\n",
       "      <th>1</th>\n",
       "      <td>Malaika Arora slammed an Instagram user who tr...</td>\n",
       "      <td>From her special numbers to TV?appearances, Bo...</td>\n",
       "    </tr>\n",
       "    <tr>\n",
       "      <th>2</th>\n",
       "      <td>The Indira Gandhi Institute of Medical Science...</td>\n",
       "      <td>The Indira Gandhi Institute of Medical Science...</td>\n",
       "    </tr>\n",
       "    <tr>\n",
       "      <th>3</th>\n",
       "      <td>Lashkar-e-Taiba's Kashmir commander Abu Dujana...</td>\n",
       "      <td>Lashkar-e-Taiba's Kashmir commander Abu Dujana...</td>\n",
       "    </tr>\n",
       "    <tr>\n",
       "      <th>4</th>\n",
       "      <td>Hotels in Maharashtra will train their staff t...</td>\n",
       "      <td>Hotels in Mumbai and other Indian cities are t...</td>\n",
       "    </tr>\n",
       "    <tr>\n",
       "      <th>...</th>\n",
       "      <td>...</td>\n",
       "      <td>...</td>\n",
       "    </tr>\n",
       "    <tr>\n",
       "      <th>4509</th>\n",
       "      <td>Fruit juice concentrate maker Rasna is eyeing ...</td>\n",
       "      <td>Mumbai, Feb 23 (PTI) Fruit juice concentrate m...</td>\n",
       "    </tr>\n",
       "    <tr>\n",
       "      <th>4510</th>\n",
       "      <td>Former Indian cricketer Sachin Tendulkar atten...</td>\n",
       "      <td>Former cricketer Sachin Tendulkar was spotted ...</td>\n",
       "    </tr>\n",
       "    <tr>\n",
       "      <th>4511</th>\n",
       "      <td>Aamir Khan, while talking about reality shows ...</td>\n",
       "      <td>Aamir Khan, whose last film Dangal told the st...</td>\n",
       "    </tr>\n",
       "    <tr>\n",
       "      <th>4512</th>\n",
       "      <td>The Maharashtra government has initiated an in...</td>\n",
       "      <td>Maharahstra Power Minister Chandrashekhar Bawa...</td>\n",
       "    </tr>\n",
       "    <tr>\n",
       "      <th>4513</th>\n",
       "      <td>At least 400 languages or more than half langu...</td>\n",
       "      <td>More than half of the languages spoken by Indi...</td>\n",
       "    </tr>\n",
       "  </tbody>\n",
       "</table>\n",
       "<p>4514 rows × 2 columns</p>\n",
       "</div>"
      ],
      "text/plain": [
       "                                                   text  \\\n",
       "0     The Administration of Union Territory Daman an...   \n",
       "1     Malaika Arora slammed an Instagram user who tr...   \n",
       "2     The Indira Gandhi Institute of Medical Science...   \n",
       "3     Lashkar-e-Taiba's Kashmir commander Abu Dujana...   \n",
       "4     Hotels in Maharashtra will train their staff t...   \n",
       "...                                                 ...   \n",
       "4509  Fruit juice concentrate maker Rasna is eyeing ...   \n",
       "4510  Former Indian cricketer Sachin Tendulkar atten...   \n",
       "4511  Aamir Khan, while talking about reality shows ...   \n",
       "4512  The Maharashtra government has initiated an in...   \n",
       "4513  At least 400 languages or more than half langu...   \n",
       "\n",
       "                                                  ctext  \n",
       "0     The Daman and Diu administration on Wednesday ...  \n",
       "1     From her special numbers to TV?appearances, Bo...  \n",
       "2     The Indira Gandhi Institute of Medical Science...  \n",
       "3     Lashkar-e-Taiba's Kashmir commander Abu Dujana...  \n",
       "4     Hotels in Mumbai and other Indian cities are t...  \n",
       "...                                                 ...  \n",
       "4509  Mumbai, Feb 23 (PTI) Fruit juice concentrate m...  \n",
       "4510  Former cricketer Sachin Tendulkar was spotted ...  \n",
       "4511  Aamir Khan, whose last film Dangal told the st...  \n",
       "4512  Maharahstra Power Minister Chandrashekhar Bawa...  \n",
       "4513  More than half of the languages spoken by Indi...  \n",
       "\n",
       "[4514 rows x 2 columns]"
      ]
     },
     "execution_count": 151,
     "metadata": {},
     "output_type": "execute_result"
    }
   ],
   "source": [
    "# 1. Removing unwanted columns\n",
    "newsSummaryDataset = newsSummaryDataset.drop(['author', 'date', 'headlines', 'read_more'], axis=1)\n",
    "newsSummaryDataset"
   ]
  },
  {
   "cell_type": "code",
   "execution_count": 152,
   "id": "e61c3eec",
   "metadata": {},
   "outputs": [
    {
     "data": {
      "text/plain": [
       "(4514, 2)"
      ]
     },
     "execution_count": 152,
     "metadata": {},
     "output_type": "execute_result"
    }
   ],
   "source": [
    "# 2. Renaming columns\n",
    "newsSummaryDataset = newsSummaryDataset.rename(columns={'text': 'summary', 'ctext': 'text'})\n",
    "newsSummaryDatasetCopy = newsSummaryDataset.copy()\n",
    "newsSummaryDataset.shape"
   ]
  },
  {
   "cell_type": "code",
   "execution_count": 153,
   "id": "0ded0ca8",
   "metadata": {},
   "outputs": [
    {
     "data": {
      "text/plain": [
       "(4396, 2)"
      ]
     },
     "execution_count": 153,
     "metadata": {},
     "output_type": "execute_result"
    }
   ],
   "source": [
    "# 3. Drop NA values\n",
    "newsSummaryDataset = newsSummaryDataset.dropna()\n",
    "newsSummaryDataset.shape"
   ]
  },
  {
   "cell_type": "code",
   "execution_count": 154,
   "id": "69a9a021",
   "metadata": {},
   "outputs": [
    {
     "data": {
      "text/plain": [
       "(4341, 2)"
      ]
     },
     "execution_count": 154,
     "metadata": {},
     "output_type": "execute_result"
    }
   ],
   "source": [
    "# 4. Drop duplicates values\n",
    "newsSummaryDataset = newsSummaryDataset.drop_duplicates(\"text\")\n",
    "newsSummaryDataset.shape"
   ]
  },
  {
   "cell_type": "code",
   "execution_count": 155,
   "id": "ab4d5ee0",
   "metadata": {},
   "outputs": [],
   "source": [
    "# 5. Converting to lowercase\n",
    "newsSummaryDataset['text'] = newsSummaryDataset['text'].apply(lambda x: x.lower())\n",
    "newsSummaryDataset['summary'] = newsSummaryDataset['summary'].apply(lambda x: x.lower())"
   ]
  },
  {
   "cell_type": "code",
   "execution_count": 156,
   "id": "2e1c5510",
   "metadata": {},
   "outputs": [],
   "source": [
    "# 6. Remove HTML tags\n",
    "from bs4 import BeautifulSoup\n",
    "newsSummaryDataset['text'] = newsSummaryDataset['text'].apply(lambda x: BeautifulSoup(x, \"html.parser\").text)\n",
    "newsSummaryDataset['summary'] = newsSummaryDataset['summary'].apply(lambda x: BeautifulSoup(x, \"html.parser\").text)"
   ]
  },
  {
   "cell_type": "code",
   "execution_count": 157,
   "id": "b970f806",
   "metadata": {},
   "outputs": [],
   "source": [
    "# 7. Contraction Mapping [Expansion] eg:- \"aren't\" ==> \"are not\"\n",
    "newsSummaryDataset['text'] = newsSummaryDataset['text'].apply(lambda x: [contractions.fix(word) for word in x.split()])\n",
    "newsSummaryDataset['text'] = newsSummaryDataset['text'].apply(lambda x: ' '.join(x))\n",
    "\n",
    "newsSummaryDataset['summary'] = newsSummaryDataset['summary'].apply(lambda x: [contractions.fix(word) for word in x.split()])\n",
    "newsSummaryDataset['summary'] = newsSummaryDataset['summary'].apply(lambda x: ' '.join(x))"
   ]
  },
  {
   "cell_type": "code",
   "execution_count": 158,
   "id": "9c26b310",
   "metadata": {},
   "outputs": [],
   "source": [
    "# 8. Remove (‘s)\n",
    "import re\n",
    "def remove_s(text):\n",
    "    text = re.sub(\"'s\", \"\", text)\n",
    "    return text\n",
    "\n",
    "newsSummaryDataset['text'] = newsSummaryDataset['text'].apply(lambda x: remove_s(x))\n",
    "newsSummaryDataset['summary'] = newsSummaryDataset['summary'].apply(lambda x: remove_s(x))"
   ]
  },
  {
   "cell_type": "code",
   "execution_count": 159,
   "id": "82015b20",
   "metadata": {},
   "outputs": [],
   "source": [
    "# 5. Remove any text inside any form of parenthesis ( ) [] {} < >\n",
    "def remove_content_between_parenthsis(text):\n",
    "    return re.sub(r'\\([^)]*\\)', '', text)\n",
    "\n",
    "newsSummaryDataset['text'] = newsSummaryDataset['text'].apply(lambda x: remove_content_between_parenthsis(x))\n",
    "newsSummaryDataset['summary'] = newsSummaryDataset['summary'].apply(lambda x: remove_content_between_parenthsis(x))"
   ]
  },
  {
   "cell_type": "code",
   "execution_count": 160,
   "id": "96dc5028",
   "metadata": {},
   "outputs": [],
   "source": [
    "# 10. Eliminate punctuations and special characters\n",
    "import string\n",
    "def remove_punctuation(text):\n",
    "    translator = str.maketrans('', '', string.punctuation)\n",
    "    return text.translate(translator)\n",
    "\n",
    "newsSummaryDataset['text'] = newsSummaryDataset['text'].apply(lambda x: remove_punctuation(x))\n",
    "newsSummaryDataset['summary'] = newsSummaryDataset['summary'].apply(lambda x: remove_punctuation(x))\n"
   ]
  },
  {
   "cell_type": "code",
   "execution_count": 161,
   "id": "d4ce08fb",
   "metadata": {},
   "outputs": [],
   "source": [
    "# 11. Remove stopwords\n",
    "from nltk.corpus import stopwords\n",
    "stop_words = set(stopwords.words('english'))\n",
    "\n",
    "def remove_stopwords(text):\n",
    "    return ' '.join([word for word in text.split() if word not in stop_words])\n",
    "\n",
    "newsSummaryDataset['text'] = newsSummaryDataset['text'].apply(lambda x: remove_stopwords(x))\n",
    "newsSummaryDataset['summary'] = newsSummaryDataset['summary'].apply(lambda x: remove_stopwords(x))"
   ]
  },
  {
   "cell_type": "code",
   "execution_count": 162,
   "id": "b2c0e9f8",
   "metadata": {},
   "outputs": [],
   "source": [
    "# 12. Remove short words\n",
    "def remove_shortwords(text):\n",
    "    return ' '.join([word for word in text.split() if len(word) > 2])\n",
    "\n",
    "newsSummaryDataset['text'] = newsSummaryDataset['text'].apply(lambda x: remove_shortwords(x))\n",
    "newsSummaryDataset['summary'] = newsSummaryDataset['summary'].apply(lambda x: remove_shortwords(x))"
   ]
  },
  {
   "cell_type": "code",
   "execution_count": 163,
   "id": "1910da48",
   "metadata": {},
   "outputs": [
    {
     "data": {
      "text/plain": [
       "(4341, 2)"
      ]
     },
     "execution_count": 163,
     "metadata": {},
     "output_type": "execute_result"
    }
   ],
   "source": [
    "# 13. Remove the rows that have empty text or summary\n",
    "def remove_empty_rows(text, summary):\n",
    "    return (text != '') & (summary != '')\n",
    "\n",
    "newsSummaryDataset = newsSummaryDataset[newsSummaryDataset.apply(lambda x: remove_empty_rows(x['text'], x['summary']), axis=1)]\n",
    "newsSummaryDataset.shape"
   ]
  },
  {
   "cell_type": "code",
   "execution_count": 164,
   "id": "41ff19a0",
   "metadata": {},
   "outputs": [],
   "source": [
    "# 14. remove extra lines and trim spaces\n",
    "def remove_extra_lines(text):\n",
    "    return text.strip()\n",
    "\n",
    "newsSummaryDataset['text'] = newsSummaryDataset['text'].apply(lambda x: remove_extra_lines(x))\n",
    "newsSummaryDataset['summary'] = newsSummaryDataset['summary'].apply(lambda x: remove_extra_lines(x))"
   ]
  },
  {
   "cell_type": "code",
   "execution_count": 165,
   "id": "e248ae96",
   "metadata": {},
   "outputs": [],
   "source": [
    "# 15. Removing Emojis from the text\n",
    "import re\n",
    "def remove_emojis(text):\n",
    "    return re.sub(r'[^\\x00-\\x7F]+', '', text)\n",
    "\n",
    "newsSummaryDataset['text'] = newsSummaryDataset['text'].apply(lambda x: remove_emojis(x))\n",
    "newsSummaryDataset['summary'] = newsSummaryDataset['summary'].apply(lambda x: remove_emojis(x))"
   ]
  },
  {
   "cell_type": "code",
   "execution_count": 166,
   "id": "ca64ac90",
   "metadata": {},
   "outputs": [],
   "source": [
    "# 16. Removing URLs\n",
    "import re\n",
    "def remove_urls(text):\n",
    "    return re.sub(r'http\\S+', '', text)\n",
    "\n",
    "newsSummaryDataset['text'] = newsSummaryDataset['text'].apply(lambda x: remove_urls(x))\n",
    "newsSummaryDataset['summary'] = newsSummaryDataset['summary'].apply(lambda x: remove_urls(x))"
   ]
  },
  {
   "cell_type": "code",
   "execution_count": 167,
   "id": "60e56cec",
   "metadata": {},
   "outputs": [],
   "source": [
    "# Saving the cleaned data to a csv file\n",
    "newsSummaryDataset.to_csv('../../dataset/news_summary/cleaned_news_summary.csv', index=False)"
   ]
  },
  {
   "cell_type": "code",
   "execution_count": 168,
   "id": "11851c14",
   "metadata": {},
   "outputs": [
    {
     "data": {
      "text/html": [
       "<div>\n",
       "<style scoped>\n",
       "    .dataframe tbody tr th:only-of-type {\n",
       "        vertical-align: middle;\n",
       "    }\n",
       "\n",
       "    .dataframe tbody tr th {\n",
       "        vertical-align: top;\n",
       "    }\n",
       "\n",
       "    .dataframe thead th {\n",
       "        text-align: right;\n",
       "    }\n",
       "</style>\n",
       "<table border=\"1\" class=\"dataframe\">\n",
       "  <thead>\n",
       "    <tr style=\"text-align: right;\">\n",
       "      <th></th>\n",
       "      <th>summary</th>\n",
       "      <th>text</th>\n",
       "    </tr>\n",
       "  </thead>\n",
       "  <tbody>\n",
       "    <tr>\n",
       "      <th>0</th>\n",
       "      <td>administration union territory daman diu revok...</td>\n",
       "      <td>daman diu administration wednesday withdrew ci...</td>\n",
       "    </tr>\n",
       "    <tr>\n",
       "      <th>1</th>\n",
       "      <td>malaika arora slammed instagram user trolled d...</td>\n",
       "      <td>special numbers tvappearances bollywood actor ...</td>\n",
       "    </tr>\n",
       "    <tr>\n",
       "      <th>2</th>\n",
       "      <td>indira gandhi institute medical sciences patna...</td>\n",
       "      <td>indira gandhi institute medical sciences patna...</td>\n",
       "    </tr>\n",
       "    <tr>\n",
       "      <th>3</th>\n",
       "      <td>lashkaretaiba kashmir commander abu dujana kil...</td>\n",
       "      <td>lashkaretaiba kashmir commander abu dujana kil...</td>\n",
       "    </tr>\n",
       "    <tr>\n",
       "      <th>4</th>\n",
       "      <td>hotels maharashtra train staff spot signs sex ...</td>\n",
       "      <td>hotels mumbai indian cities train staff spot s...</td>\n",
       "    </tr>\n",
       "    <tr>\n",
       "      <th>...</th>\n",
       "      <td>...</td>\n",
       "      <td>...</td>\n",
       "    </tr>\n",
       "    <tr>\n",
       "      <th>4509</th>\n",
       "      <td>fruit juice concentrate maker rasna eyeing rev...</td>\n",
       "      <td>mumbai feb fruit juice concentrate maker rasna...</td>\n",
       "    </tr>\n",
       "    <tr>\n",
       "      <th>4510</th>\n",
       "      <td>former indian cricketer sachin tendulkar atten...</td>\n",
       "      <td>former cricketer sachin tendulkar spotted rajy...</td>\n",
       "    </tr>\n",
       "    <tr>\n",
       "      <th>4511</th>\n",
       "      <td>aamir khan talking reality shows television fe...</td>\n",
       "      <td>aamir khan whose last film dangal told story t...</td>\n",
       "    </tr>\n",
       "    <tr>\n",
       "      <th>4512</th>\n",
       "      <td>maharashtra government initiated inquiry 83yea...</td>\n",
       "      <td>maharahstra power minister chandrashekhar bawa...</td>\n",
       "    </tr>\n",
       "    <tr>\n",
       "      <th>4513</th>\n",
       "      <td>least 400 languages half languages spoken indi...</td>\n",
       "      <td>half languages spoken india billion people may...</td>\n",
       "    </tr>\n",
       "  </tbody>\n",
       "</table>\n",
       "<p>4341 rows × 2 columns</p>\n",
       "</div>"
      ],
      "text/plain": [
       "                                                summary  \\\n",
       "0     administration union territory daman diu revok...   \n",
       "1     malaika arora slammed instagram user trolled d...   \n",
       "2     indira gandhi institute medical sciences patna...   \n",
       "3     lashkaretaiba kashmir commander abu dujana kil...   \n",
       "4     hotels maharashtra train staff spot signs sex ...   \n",
       "...                                                 ...   \n",
       "4509  fruit juice concentrate maker rasna eyeing rev...   \n",
       "4510  former indian cricketer sachin tendulkar atten...   \n",
       "4511  aamir khan talking reality shows television fe...   \n",
       "4512  maharashtra government initiated inquiry 83yea...   \n",
       "4513  least 400 languages half languages spoken indi...   \n",
       "\n",
       "                                                   text  \n",
       "0     daman diu administration wednesday withdrew ci...  \n",
       "1     special numbers tvappearances bollywood actor ...  \n",
       "2     indira gandhi institute medical sciences patna...  \n",
       "3     lashkaretaiba kashmir commander abu dujana kil...  \n",
       "4     hotels mumbai indian cities train staff spot s...  \n",
       "...                                                 ...  \n",
       "4509  mumbai feb fruit juice concentrate maker rasna...  \n",
       "4510  former cricketer sachin tendulkar spotted rajy...  \n",
       "4511  aamir khan whose last film dangal told story t...  \n",
       "4512  maharahstra power minister chandrashekhar bawa...  \n",
       "4513  half languages spoken india billion people may...  \n",
       "\n",
       "[4341 rows x 2 columns]"
      ]
     },
     "execution_count": 168,
     "metadata": {},
     "output_type": "execute_result"
    }
   ],
   "source": [
    "newsSummaryDataset"
   ]
  },
  {
   "cell_type": "code",
   "execution_count": 169,
   "id": "054aab69",
   "metadata": {},
   "outputs": [
    {
     "data": {
      "text/html": [
       "<div>\n",
       "<style scoped>\n",
       "    .dataframe tbody tr th:only-of-type {\n",
       "        vertical-align: middle;\n",
       "    }\n",
       "\n",
       "    .dataframe tbody tr th {\n",
       "        vertical-align: top;\n",
       "    }\n",
       "\n",
       "    .dataframe thead th {\n",
       "        text-align: right;\n",
       "    }\n",
       "</style>\n",
       "<table border=\"1\" class=\"dataframe\">\n",
       "  <thead>\n",
       "    <tr style=\"text-align: right;\">\n",
       "      <th></th>\n",
       "      <th>summary</th>\n",
       "      <th>text</th>\n",
       "    </tr>\n",
       "  </thead>\n",
       "  <tbody>\n",
       "    <tr>\n",
       "      <th>0</th>\n",
       "      <td>The Administration of Union Territory Daman an...</td>\n",
       "      <td>The Daman and Diu administration on Wednesday ...</td>\n",
       "    </tr>\n",
       "    <tr>\n",
       "      <th>1</th>\n",
       "      <td>Malaika Arora slammed an Instagram user who tr...</td>\n",
       "      <td>From her special numbers to TV?appearances, Bo...</td>\n",
       "    </tr>\n",
       "    <tr>\n",
       "      <th>2</th>\n",
       "      <td>The Indira Gandhi Institute of Medical Science...</td>\n",
       "      <td>The Indira Gandhi Institute of Medical Science...</td>\n",
       "    </tr>\n",
       "    <tr>\n",
       "      <th>3</th>\n",
       "      <td>Lashkar-e-Taiba's Kashmir commander Abu Dujana...</td>\n",
       "      <td>Lashkar-e-Taiba's Kashmir commander Abu Dujana...</td>\n",
       "    </tr>\n",
       "    <tr>\n",
       "      <th>4</th>\n",
       "      <td>Hotels in Maharashtra will train their staff t...</td>\n",
       "      <td>Hotels in Mumbai and other Indian cities are t...</td>\n",
       "    </tr>\n",
       "    <tr>\n",
       "      <th>...</th>\n",
       "      <td>...</td>\n",
       "      <td>...</td>\n",
       "    </tr>\n",
       "    <tr>\n",
       "      <th>4509</th>\n",
       "      <td>Fruit juice concentrate maker Rasna is eyeing ...</td>\n",
       "      <td>Mumbai, Feb 23 (PTI) Fruit juice concentrate m...</td>\n",
       "    </tr>\n",
       "    <tr>\n",
       "      <th>4510</th>\n",
       "      <td>Former Indian cricketer Sachin Tendulkar atten...</td>\n",
       "      <td>Former cricketer Sachin Tendulkar was spotted ...</td>\n",
       "    </tr>\n",
       "    <tr>\n",
       "      <th>4511</th>\n",
       "      <td>Aamir Khan, while talking about reality shows ...</td>\n",
       "      <td>Aamir Khan, whose last film Dangal told the st...</td>\n",
       "    </tr>\n",
       "    <tr>\n",
       "      <th>4512</th>\n",
       "      <td>The Maharashtra government has initiated an in...</td>\n",
       "      <td>Maharahstra Power Minister Chandrashekhar Bawa...</td>\n",
       "    </tr>\n",
       "    <tr>\n",
       "      <th>4513</th>\n",
       "      <td>At least 400 languages or more than half langu...</td>\n",
       "      <td>More than half of the languages spoken by Indi...</td>\n",
       "    </tr>\n",
       "  </tbody>\n",
       "</table>\n",
       "<p>4514 rows × 2 columns</p>\n",
       "</div>"
      ],
      "text/plain": [
       "                                                summary  \\\n",
       "0     The Administration of Union Territory Daman an...   \n",
       "1     Malaika Arora slammed an Instagram user who tr...   \n",
       "2     The Indira Gandhi Institute of Medical Science...   \n",
       "3     Lashkar-e-Taiba's Kashmir commander Abu Dujana...   \n",
       "4     Hotels in Maharashtra will train their staff t...   \n",
       "...                                                 ...   \n",
       "4509  Fruit juice concentrate maker Rasna is eyeing ...   \n",
       "4510  Former Indian cricketer Sachin Tendulkar atten...   \n",
       "4511  Aamir Khan, while talking about reality shows ...   \n",
       "4512  The Maharashtra government has initiated an in...   \n",
       "4513  At least 400 languages or more than half langu...   \n",
       "\n",
       "                                                   text  \n",
       "0     The Daman and Diu administration on Wednesday ...  \n",
       "1     From her special numbers to TV?appearances, Bo...  \n",
       "2     The Indira Gandhi Institute of Medical Science...  \n",
       "3     Lashkar-e-Taiba's Kashmir commander Abu Dujana...  \n",
       "4     Hotels in Mumbai and other Indian cities are t...  \n",
       "...                                                 ...  \n",
       "4509  Mumbai, Feb 23 (PTI) Fruit juice concentrate m...  \n",
       "4510  Former cricketer Sachin Tendulkar was spotted ...  \n",
       "4511  Aamir Khan, whose last film Dangal told the st...  \n",
       "4512  Maharahstra Power Minister Chandrashekhar Bawa...  \n",
       "4513  More than half of the languages spoken by Indi...  \n",
       "\n",
       "[4514 rows x 2 columns]"
      ]
     },
     "execution_count": 169,
     "metadata": {},
     "output_type": "execute_result"
    }
   ],
   "source": [
    "newsSummaryDatasetCopy"
   ]
  }
 ],
 "metadata": {
  "kernelspec": {
   "display_name": "Python 3 (ipykernel)",
   "language": "python",
   "name": "python3"
  },
  "language_info": {
   "codemirror_mode": {
    "name": "ipython",
    "version": 3
   },
   "file_extension": ".py",
   "mimetype": "text/x-python",
   "name": "python",
   "nbconvert_exporter": "python",
   "pygments_lexer": "ipython3",
   "version": "3.7.0"
  }
 },
 "nbformat": 4,
 "nbformat_minor": 5
}
