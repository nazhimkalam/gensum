{
 "cells": [
  {
   "cell_type": "code",
   "execution_count": 1,
   "id": "809de447",
   "metadata": {},
   "outputs": [],
   "source": [
    "import pandas as pd\n",
    "import contractions\n",
    "import nltk"
   ]
  },
  {
   "cell_type": "code",
   "execution_count": 3,
   "id": "414b5d1e",
   "metadata": {},
   "outputs": [],
   "source": [
    "# Dataset\n",
    "cnn_dailymail = {\n",
    "    \"normal\": \"../../dataset/cnn_dailymail/cnn_dailymail.csv\",\n",
    "}"
   ]
  },
  {
   "cell_type": "code",
   "execution_count": 5,
   "id": "6da543dd",
   "metadata": {},
   "outputs": [],
   "source": [
    "cnn_dailymailDataset = pd.read_csv(cnn_dailymail[\"normal\"], encoding='latin-1')"
   ]
  },
  {
   "cell_type": "code",
   "execution_count": 6,
   "id": "972574df",
   "metadata": {},
   "outputs": [
    {
     "data": {
      "text/html": [
       "<div>\n",
       "<style scoped>\n",
       "    .dataframe tbody tr th:only-of-type {\n",
       "        vertical-align: middle;\n",
       "    }\n",
       "\n",
       "    .dataframe tbody tr th {\n",
       "        vertical-align: top;\n",
       "    }\n",
       "\n",
       "    .dataframe thead th {\n",
       "        text-align: right;\n",
       "    }\n",
       "</style>\n",
       "<table border=\"1\" class=\"dataframe\">\n",
       "  <thead>\n",
       "    <tr style=\"text-align: right;\">\n",
       "      <th></th>\n",
       "      <th>article</th>\n",
       "      <th>highlights</th>\n",
       "    </tr>\n",
       "  </thead>\n",
       "  <tbody>\n",
       "    <tr>\n",
       "      <th>0</th>\n",
       "      <td>b\"By. Associated Press. PUBLISHED:. 14:11 EST,...</td>\n",
       "      <td>b'Bishop John Folda, of North Dakota, is takin...</td>\n",
       "    </tr>\n",
       "    <tr>\n",
       "      <th>1</th>\n",
       "      <td>b'(CNN) -- Ralph Mata was an internal affairs ...</td>\n",
       "      <td>b'Criminal complaint: Cop used his role to hel...</td>\n",
       "    </tr>\n",
       "    <tr>\n",
       "      <th>2</th>\n",
       "      <td>b\"A drunk driver who killed a young woman in a...</td>\n",
       "      <td>b\"Craig Eccleston-Todd, 27, had drunk at least...</td>\n",
       "    </tr>\n",
       "  </tbody>\n",
       "</table>\n",
       "</div>"
      ],
      "text/plain": [
       "                                             article  \\\n",
       "0  b\"By. Associated Press. PUBLISHED:. 14:11 EST,...   \n",
       "1  b'(CNN) -- Ralph Mata was an internal affairs ...   \n",
       "2  b\"A drunk driver who killed a young woman in a...   \n",
       "\n",
       "                                          highlights  \n",
       "0  b'Bishop John Folda, of North Dakota, is takin...  \n",
       "1  b'Criminal complaint: Cop used his role to hel...  \n",
       "2  b\"Craig Eccleston-Todd, 27, had drunk at least...  "
      ]
     },
     "execution_count": 6,
     "metadata": {},
     "output_type": "execute_result"
    }
   ],
   "source": [
    "cnn_dailymailDataset.head(3)"
   ]
  },
  {
   "cell_type": "code",
   "execution_count": 7,
   "id": "177c45f1",
   "metadata": {},
   "outputs": [
    {
     "data": {
      "text/plain": [
       "(5000, 2)"
      ]
     },
     "execution_count": 7,
     "metadata": {},
     "output_type": "execute_result"
    }
   ],
   "source": [
    "# 1. Renaming columns\n",
    "cnn_dailymailDataset = cnn_dailymailDataset.rename(columns={'article': 'text'})\n",
    "cnn_dailymailDataset = cnn_dailymailDataset.rename(columns={'highlights': 'summary'})\n",
    "cnn_dailymailDatasetCopy = cnn_dailymailDataset.copy()\n",
    "cnn_dailymailDataset.shape"
   ]
  },
  {
   "cell_type": "code",
   "execution_count": 8,
   "id": "bd8947c2",
   "metadata": {},
   "outputs": [
    {
     "data": {
      "text/html": [
       "<div>\n",
       "<style scoped>\n",
       "    .dataframe tbody tr th:only-of-type {\n",
       "        vertical-align: middle;\n",
       "    }\n",
       "\n",
       "    .dataframe tbody tr th {\n",
       "        vertical-align: top;\n",
       "    }\n",
       "\n",
       "    .dataframe thead th {\n",
       "        text-align: right;\n",
       "    }\n",
       "</style>\n",
       "<table border=\"1\" class=\"dataframe\">\n",
       "  <thead>\n",
       "    <tr style=\"text-align: right;\">\n",
       "      <th></th>\n",
       "      <th>text</th>\n",
       "      <th>summary</th>\n",
       "    </tr>\n",
       "  </thead>\n",
       "  <tbody>\n",
       "    <tr>\n",
       "      <th>0</th>\n",
       "      <td>b\"By. Associated Press. PUBLISHED:. 14:11 EST,...</td>\n",
       "      <td>b'Bishop John Folda, of North Dakota, is takin...</td>\n",
       "    </tr>\n",
       "    <tr>\n",
       "      <th>1</th>\n",
       "      <td>b'(CNN) -- Ralph Mata was an internal affairs ...</td>\n",
       "      <td>b'Criminal complaint: Cop used his role to hel...</td>\n",
       "    </tr>\n",
       "    <tr>\n",
       "      <th>2</th>\n",
       "      <td>b\"A drunk driver who killed a young woman in a...</td>\n",
       "      <td>b\"Craig Eccleston-Todd, 27, had drunk at least...</td>\n",
       "    </tr>\n",
       "  </tbody>\n",
       "</table>\n",
       "</div>"
      ],
      "text/plain": [
       "                                                text  \\\n",
       "0  b\"By. Associated Press. PUBLISHED:. 14:11 EST,...   \n",
       "1  b'(CNN) -- Ralph Mata was an internal affairs ...   \n",
       "2  b\"A drunk driver who killed a young woman in a...   \n",
       "\n",
       "                                             summary  \n",
       "0  b'Bishop John Folda, of North Dakota, is takin...  \n",
       "1  b'Criminal complaint: Cop used his role to hel...  \n",
       "2  b\"Craig Eccleston-Todd, 27, had drunk at least...  "
      ]
     },
     "execution_count": 8,
     "metadata": {},
     "output_type": "execute_result"
    }
   ],
   "source": [
    "cnn_dailymailDataset.head(3)"
   ]
  },
  {
   "cell_type": "code",
   "execution_count": 9,
   "id": "5b17cfd1",
   "metadata": {},
   "outputs": [
    {
     "data": {
      "text/plain": [
       "(5000, 2)"
      ]
     },
     "execution_count": 9,
     "metadata": {},
     "output_type": "execute_result"
    }
   ],
   "source": [
    "# 2. Drop NA values\n",
    "cnn_dailymailDataset = cnn_dailymailDataset.dropna()\n",
    "cnn_dailymailDataset.shape"
   ]
  },
  {
   "cell_type": "code",
   "execution_count": 10,
   "id": "5518e7b3",
   "metadata": {},
   "outputs": [
    {
     "data": {
      "text/plain": [
       "(5000, 2)"
      ]
     },
     "execution_count": 10,
     "metadata": {},
     "output_type": "execute_result"
    }
   ],
   "source": [
    "# 3. Drop duplicates values\n",
    "cnn_dailymailDataset = cnn_dailymailDataset.drop_duplicates(\"text\")\n",
    "cnn_dailymailDataset.shape"
   ]
  },
  {
   "cell_type": "code",
   "execution_count": 11,
   "id": "66cfa235",
   "metadata": {},
   "outputs": [],
   "source": [
    "# 4. Converting to lowercase\n",
    "cnn_dailymailDataset['text'] = cnn_dailymailDataset['text'].apply(lambda x: x.lower())\n",
    "cnn_dailymailDataset['summary'] = cnn_dailymailDataset['summary'].apply(lambda x: x.lower())"
   ]
  },
  {
   "cell_type": "code",
   "execution_count": 12,
   "id": "7f3cf4c0",
   "metadata": {},
   "outputs": [],
   "source": [
    "# 7. Remove (b')\n",
    "import re\n",
    "def remove_s(text):\n",
    "    text = re.sub(\"b'\", \"\", text)\n",
    "    text = re.sub('b\"', \"\", text)\n",
    "    return text\n",
    "\n",
    "cnn_dailymailDataset['text'] = cnn_dailymailDataset['text'].apply(lambda x: remove_s(x))\n",
    "cnn_dailymailDataset['summary'] = cnn_dailymailDataset['summary'].apply(lambda x: remove_s(x))"
   ]
  },
  {
   "cell_type": "code",
   "execution_count": 13,
   "id": "831ea495",
   "metadata": {},
   "outputs": [
    {
     "data": {
      "text/html": [
       "<div>\n",
       "<style scoped>\n",
       "    .dataframe tbody tr th:only-of-type {\n",
       "        vertical-align: middle;\n",
       "    }\n",
       "\n",
       "    .dataframe tbody tr th {\n",
       "        vertical-align: top;\n",
       "    }\n",
       "\n",
       "    .dataframe thead th {\n",
       "        text-align: right;\n",
       "    }\n",
       "</style>\n",
       "<table border=\"1\" class=\"dataframe\">\n",
       "  <thead>\n",
       "    <tr style=\"text-align: right;\">\n",
       "      <th></th>\n",
       "      <th>text</th>\n",
       "      <th>summary</th>\n",
       "    </tr>\n",
       "  </thead>\n",
       "  <tbody>\n",
       "    <tr>\n",
       "      <th>0</th>\n",
       "      <td>by. associated press. published:. 14:11 est, 2...</td>\n",
       "      <td>bishop john folda, of north dakota, is taking ...</td>\n",
       "    </tr>\n",
       "    <tr>\n",
       "      <th>1</th>\n",
       "      <td>(cnn) -- ralph mata was an internal affairs li...</td>\n",
       "      <td>criminal complaint: cop used his role to help ...</td>\n",
       "    </tr>\n",
       "    <tr>\n",
       "      <th>2</th>\n",
       "      <td>a drunk driver who killed a young woman in a h...</td>\n",
       "      <td>craig eccleston-todd, 27, had drunk at least t...</td>\n",
       "    </tr>\n",
       "  </tbody>\n",
       "</table>\n",
       "</div>"
      ],
      "text/plain": [
       "                                                text  \\\n",
       "0  by. associated press. published:. 14:11 est, 2...   \n",
       "1  (cnn) -- ralph mata was an internal affairs li...   \n",
       "2  a drunk driver who killed a young woman in a h...   \n",
       "\n",
       "                                             summary  \n",
       "0  bishop john folda, of north dakota, is taking ...  \n",
       "1  criminal complaint: cop used his role to help ...  \n",
       "2  craig eccleston-todd, 27, had drunk at least t...  "
      ]
     },
     "execution_count": 13,
     "metadata": {},
     "output_type": "execute_result"
    }
   ],
   "source": [
    "cnn_dailymailDataset.head(3)"
   ]
  },
  {
   "cell_type": "code",
   "execution_count": 14,
   "id": "0b1cb365",
   "metadata": {},
   "outputs": [
    {
     "name": "stderr",
     "output_type": "stream",
     "text": [
      "c:\\users\\hp\\appdata\\local\\programs\\python\\python37\\lib\\site-packages\\bs4\\__init__.py:439: MarkupResemblesLocatorWarning: The input looks more like a filename than markup. You may want to open this file and pass the filehandle into Beautiful Soup.\n",
      "  MarkupResemblesLocatorWarning\n"
     ]
    }
   ],
   "source": [
    "# 5. Remove HTML tags\n",
    "from bs4 import BeautifulSoup\n",
    "cnn_dailymailDataset['text'] = cnn_dailymailDataset['text'].apply(lambda x: BeautifulSoup(x, \"html.parser\").text)\n",
    "cnn_dailymailDataset['summary'] = cnn_dailymailDataset['summary'].apply(lambda x: BeautifulSoup(x, \"html.parser\").text)"
   ]
  },
  {
   "cell_type": "code",
   "execution_count": 15,
   "id": "03e0492c",
   "metadata": {},
   "outputs": [],
   "source": [
    "# 6. Contraction Mapping [Expansion] eg:- \"aren't\" ==> \"are not\"\n",
    "cnn_dailymailDataset['text'] = cnn_dailymailDataset['text'].apply(lambda x: [contractions.fix(word) for word in x.split()])\n",
    "cnn_dailymailDataset['text'] = cnn_dailymailDataset['text'].apply(lambda x: ' '.join(x))\n",
    "\n",
    "cnn_dailymailDataset['summary'] = cnn_dailymailDataset['summary'].apply(lambda x: [contractions.fix(word) for word in x.split()])\n",
    "cnn_dailymailDataset['summary'] = cnn_dailymailDataset['summary'].apply(lambda x: ' '.join(x))"
   ]
  },
  {
   "cell_type": "code",
   "execution_count": 206,
   "id": "5e272cee",
   "metadata": {},
   "outputs": [],
   "source": [
    "# # 7. Remove (‘s)\n",
    "# import re\n",
    "# def remove_s(text):\n",
    "#     text = re.sub(\"'s\", \"\", text)\n",
    "#     return text\n",
    "\n",
    "# gigawordDataset['text'] = gigawordDataset['text'].apply(lambda x: remove_s(x))\n",
    "# gigawordDataset['summary'] = gigawordDataset['summary'].apply(lambda x: remove_s(x))"
   ]
  },
  {
   "cell_type": "code",
   "execution_count": 16,
   "id": "3b04d965",
   "metadata": {},
   "outputs": [],
   "source": [
    "# 8. Remove any text inside any form of parenthesis ( ) [] {} < >\n",
    "def remove_content_between_parenthsis(text):\n",
    "    return re.sub(r'\\([^)]*\\)', '', text)\n",
    "\n",
    "cnn_dailymailDataset['text'] = cnn_dailymailDataset['text'].apply(lambda x: remove_content_between_parenthsis(x))\n",
    "cnn_dailymailDataset['summary'] = cnn_dailymailDataset['summary'].apply(lambda x: remove_content_between_parenthsis(x))"
   ]
  },
  {
   "cell_type": "code",
   "execution_count": 17,
   "id": "9fdec3e9",
   "metadata": {},
   "outputs": [],
   "source": [
    "# 9. Eliminate punctuations and special characters\n",
    "import string\n",
    "def remove_punctuation(text):\n",
    "    translator = str.maketrans('', '', string.punctuation)\n",
    "    return text.translate(translator)\n",
    "\n",
    "cnn_dailymailDataset['text'] = cnn_dailymailDataset['text'].apply(lambda x: remove_punctuation(x))\n",
    "cnn_dailymailDataset['summary'] = cnn_dailymailDataset['summary'].apply(lambda x: remove_punctuation(x))"
   ]
  },
  {
   "cell_type": "code",
   "execution_count": 209,
   "id": "99f655f9",
   "metadata": {},
   "outputs": [],
   "source": [
    "# 11. Remove stopwords\n",
    "from nltk.corpus import stopwords\n",
    "stop_words = set(stopwords.words('english'))\n",
    "\n",
    "def remove_stopwords(text):\n",
    "    return ' '.join([word for word in text.split() if word not in stop_words])\n",
    "\n",
    "gigawordDataset['text'] = gigawordDataset['text'].apply(lambda x: remove_stopwords(x))\n",
    "gigawordDataset['summary'] = gigawordDataset['summary'].apply(lambda x: remove_stopwords(x))"
   ]
  },
  {
   "cell_type": "code",
   "execution_count": 210,
   "id": "2d53b0cc",
   "metadata": {},
   "outputs": [],
   "source": [
    "# # 12. Remove short words\n",
    "# def remove_shortwords(text):\n",
    "#     return ' '.join([word for word in text.split() if len(word) > 2])\n",
    "\n",
    "# gigawordDataset['text'] = gigawordDataset['text'].apply(lambda x: remove_shortwords(x))\n",
    "# gigawordDataset['summary'] = gigawordDataset['summary'].apply(lambda x: remove_shortwords(x))"
   ]
  },
  {
   "cell_type": "code",
   "execution_count": 18,
   "id": "4d49f2b9",
   "metadata": {},
   "outputs": [
    {
     "data": {
      "text/plain": [
       "(5000, 2)"
      ]
     },
     "execution_count": 18,
     "metadata": {},
     "output_type": "execute_result"
    }
   ],
   "source": [
    "# 13. Remove the rows that have empty text or summary\n",
    "def remove_empty_rows(text, summary):\n",
    "    return (text != '') & (summary != '')\n",
    "\n",
    "cnn_dailymailDataset = cnn_dailymailDataset[cnn_dailymailDataset.apply(lambda x: remove_empty_rows(x['text'], x['summary']), axis=1)]\n",
    "cnn_dailymailDataset.shape"
   ]
  },
  {
   "cell_type": "code",
   "execution_count": 19,
   "id": "1f0c1e63",
   "metadata": {},
   "outputs": [],
   "source": [
    "# 14. remove extra lines and trim spaces\n",
    "def remove_extra_lines(text):\n",
    "    return text.strip()\n",
    "\n",
    "cnn_dailymailDataset['text'] = cnn_dailymailDataset['text'].apply(lambda x: remove_extra_lines(x))\n",
    "cnn_dailymailDataset['summary'] = cnn_dailymailDataset['summary'].apply(lambda x: remove_extra_lines(x))"
   ]
  },
  {
   "cell_type": "code",
   "execution_count": 20,
   "id": "ecd8ca05",
   "metadata": {},
   "outputs": [],
   "source": [
    "# 15. Removing Emojis from the text\n",
    "import re\n",
    "def remove_emojis(text):\n",
    "    return re.sub(r'[^\\x00-\\x7F]+', '', text)\n",
    "\n",
    "cnn_dailymailDataset['text'] = cnn_dailymailDataset['text'].apply(lambda x: remove_emojis(x))\n",
    "cnn_dailymailDataset['summary'] = cnn_dailymailDataset['summary'].apply(lambda x: remove_emojis(x))"
   ]
  },
  {
   "cell_type": "code",
   "execution_count": 21,
   "id": "53086915",
   "metadata": {},
   "outputs": [],
   "source": [
    "# 16. Removing URLs\n",
    "import re\n",
    "def remove_urls(text):\n",
    "    return re.sub(r'http\\S+', '', text)\n",
    "\n",
    "cnn_dailymailDataset['text'] = cnn_dailymailDataset['text'].apply(lambda x: remove_urls(x))\n",
    "cnn_dailymailDataset['summary'] = cnn_dailymailDataset['summary'].apply(lambda x: remove_urls(x))"
   ]
  },
  {
   "cell_type": "code",
   "execution_count": 22,
   "id": "b5925836",
   "metadata": {},
   "outputs": [
    {
     "data": {
      "text/plain": [
       "(5000, 2)"
      ]
     },
     "execution_count": 22,
     "metadata": {},
     "output_type": "execute_result"
    }
   ],
   "source": [
    "cnn_dailymailDataset.shape"
   ]
  },
  {
   "cell_type": "code",
   "execution_count": 23,
   "id": "752c0f01",
   "metadata": {},
   "outputs": [],
   "source": [
    "# Saving the cleaned data to a csv file\n",
    "cnn_dailymailDataset.to_csv('../../dataset/cnn_dailymail/cleaned_cnn_dailymail.csv', index=False)"
   ]
  },
  {
   "cell_type": "code",
   "execution_count": 24,
   "id": "33d72f75",
   "metadata": {},
   "outputs": [
    {
     "data": {
      "text/plain": [
       "(5000, 2)"
      ]
     },
     "execution_count": 24,
     "metadata": {},
     "output_type": "execute_result"
    }
   ],
   "source": [
    "cnn_dailymailDataset.shape"
   ]
  },
  {
   "cell_type": "code",
   "execution_count": 25,
   "id": "29be7548",
   "metadata": {},
   "outputs": [
    {
     "data": {
      "text/plain": [
       "(5000, 2)"
      ]
     },
     "execution_count": 25,
     "metadata": {},
     "output_type": "execute_result"
    }
   ],
   "source": [
    "cnn_dailymailDataset.shape"
   ]
  },
  {
   "cell_type": "code",
   "execution_count": null,
   "id": "d6c51019",
   "metadata": {},
   "outputs": [],
   "source": []
  }
 ],
 "metadata": {
  "kernelspec": {
   "display_name": "Python 3 (ipykernel)",
   "language": "python",
   "name": "python3"
  },
  "language_info": {
   "codemirror_mode": {
    "name": "ipython",
    "version": 3
   },
   "file_extension": ".py",
   "mimetype": "text/x-python",
   "name": "python",
   "nbconvert_exporter": "python",
   "pygments_lexer": "ipython3",
   "version": "3.7.0"
  },
  "vscode": {
   "interpreter": {
    "hash": "356734b0b4e05b3af569ed06eb258f6ef66038e7268c6bdbb97ecd1a1c609e88"
   }
  }
 },
 "nbformat": 4,
 "nbformat_minor": 5
}
