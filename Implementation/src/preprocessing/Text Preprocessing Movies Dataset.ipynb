{
 "cells": [
  {
   "cell_type": "code",
   "execution_count": 1,
   "id": "71335fa1",
   "metadata": {},
   "outputs": [
    {
     "name": "stdout",
     "output_type": "stream",
     "text": [
      "Requirement already satisfied: contractions in c:\\users\\hp\\appdata\\local\\programs\\python\\python37\\lib\\site-packages (0.1.72)\n",
      "Requirement already satisfied: textsearch>=0.0.21 in c:\\users\\hp\\appdata\\local\\programs\\python\\python37\\lib\\site-packages (from contractions) (0.0.24)\n",
      "Requirement already satisfied: anyascii in c:\\users\\hp\\appdata\\local\\programs\\python\\python37\\lib\\site-packages (from textsearch>=0.0.21->contractions) (0.3.1)\n",
      "Requirement already satisfied: pyahocorasick in c:\\users\\hp\\appdata\\local\\programs\\python\\python37\\lib\\site-packages (from textsearch>=0.0.21->contractions) (1.4.4)\n",
      "Note: you may need to restart the kernel to use updated packages.\n"
     ]
    },
    {
     "name": "stderr",
     "output_type": "stream",
     "text": [
      "\n",
      "[notice] A new release of pip available: 22.2.2 -> 22.3.1\n",
      "[notice] To update, run: python.exe -m pip install --upgrade pip\n"
     ]
    }
   ],
   "source": [
    "pip install contractions"
   ]
  },
  {
   "cell_type": "code",
   "execution_count": 2,
   "id": "88cfc466",
   "metadata": {},
   "outputs": [],
   "source": [
    "import pandas as pd\n",
    "import contractions\n",
    "import nltk"
   ]
  },
  {
   "cell_type": "code",
   "execution_count": 41,
   "id": "2143140a",
   "metadata": {},
   "outputs": [],
   "source": [
    "# Dataset\n",
    "moviePath = {\n",
    "    \"small\": \"../../dataset/movie/movie_reviews_small.csv\",\n",
    "    \"medium\": \"../../dataset/movie/movie_reviews_medium.csv\"\n",
    "}"
   ]
  },
  {
   "cell_type": "code",
   "execution_count": 42,
   "id": "f27bc1e7",
   "metadata": {},
   "outputs": [],
   "source": [
    "movieDataset = pd.read_csv(moviePath[\"medium\"], encoding='latin-1')\n",
    "movieDatasetCopy = movieDataset.copy()"
   ]
  },
  {
   "cell_type": "code",
   "execution_count": 43,
   "id": "a3c5f1ea",
   "metadata": {},
   "outputs": [
    {
     "data": {
      "text/plain": [
       "(15000, 2)"
      ]
     },
     "execution_count": 43,
     "metadata": {},
     "output_type": "execute_result"
    }
   ],
   "source": [
    "movieDataset.shape"
   ]
  },
  {
   "cell_type": "code",
   "execution_count": 44,
   "id": "0b8fed9d",
   "metadata": {},
   "outputs": [
    {
     "name": "stdout",
     "output_type": "stream",
     "text": [
      " \"There Is So Much Darkness Now ~ Come For The Miracle\"\n",
      "\n",
      " Worthwhile and Important Story Hampered by Poor Script and Production\n",
      "\n",
      " This movie needed to be made.\n",
      "\n",
      " distantly based on a real tragedy\n",
      "\n",
      " \"What's going on down in Juarez and shining a light on it\"\n",
      "\n",
      " Pretty pointless fictionalization\n",
      "\n",
      " This is junk, stay away\n",
      "\n",
      " A  Rock N Roll History Lesson\n",
      "\n",
      " A  MUST-HAVE  video if you grew up in the 50's or 60's\n",
      "\n",
      " If You Like DooWop You Gotta Have This DVD\n",
      "\n"
     ]
    }
   ],
   "source": [
    "for i in range(10):\n",
    "    print(movieDataset.iloc[i]['summary'])"
   ]
  },
  {
   "cell_type": "code",
   "execution_count": 45,
   "id": "d6641666",
   "metadata": {},
   "outputs": [
    {
     "data": {
      "text/plain": [
       "(15000, 2)"
      ]
     },
     "execution_count": 45,
     "metadata": {},
     "output_type": "execute_result"
    }
   ],
   "source": [
    "# 1. Drop NA values\n",
    "movieDataset = movieDataset.dropna()\n",
    "movieDataset.shape"
   ]
  },
  {
   "cell_type": "code",
   "execution_count": 46,
   "id": "75aa3c5d",
   "metadata": {},
   "outputs": [
    {
     "data": {
      "text/plain": [
       "(14400, 2)"
      ]
     },
     "execution_count": 46,
     "metadata": {},
     "output_type": "execute_result"
    }
   ],
   "source": [
    "# 2. Drop duplicates values\n",
    "movieDataset = movieDataset.drop_duplicates(\"text\")\n",
    "movieDataset.shape"
   ]
  },
  {
   "cell_type": "code",
   "execution_count": 47,
   "id": "dff5b23e",
   "metadata": {},
   "outputs": [],
   "source": [
    "# 3. Converting to lowercase\n",
    "movieDataset['text'] = movieDataset['text'].apply(lambda x: x.lower())\n",
    "movieDataset['summary'] = movieDataset['summary'].apply(lambda x: x.lower())"
   ]
  },
  {
   "cell_type": "code",
   "execution_count": 48,
   "id": "79e7ab9f",
   "metadata": {},
   "outputs": [
    {
     "name": "stderr",
     "output_type": "stream",
     "text": [
      "c:\\users\\hp\\appdata\\local\\programs\\python\\python37\\lib\\site-packages\\bs4\\__init__.py:439: MarkupResemblesLocatorWarning: The input looks more like a filename than markup. You may want to open this file and pass the filehandle into Beautiful Soup.\n",
      "  MarkupResemblesLocatorWarning\n"
     ]
    }
   ],
   "source": [
    "# 4. Remove HTML tags\n",
    "from bs4 import BeautifulSoup\n",
    "movieDataset['text'] = movieDataset['text'].apply(lambda x: BeautifulSoup(x, \"html.parser\").text)\n",
    "movieDataset['summary'] = movieDataset['summary'].apply(lambda x: BeautifulSoup(x, \"html.parser\").text)"
   ]
  },
  {
   "cell_type": "code",
   "execution_count": 49,
   "id": "e65f5cf8",
   "metadata": {},
   "outputs": [],
   "source": [
    "# 5. Contraction Mapping [Expansion] eg:- \"aren't\" ==> \"are not\"\n",
    "movieDataset['text'] = movieDataset['text'].apply(lambda x: [contractions.fix(word) for word in x.split()])\n",
    "movieDataset['text'] = movieDataset['text'].apply(lambda x: ' '.join(x))\n",
    "\n",
    "movieDataset['summary'] = movieDataset['summary'].apply(lambda x: [contractions.fix(word) for word in x.split()])\n",
    "movieDataset['summary'] = movieDataset['summary'].apply(lambda x: ' '.join(x))"
   ]
  },
  {
   "cell_type": "code",
   "execution_count": 50,
   "id": "02d71d3c",
   "metadata": {},
   "outputs": [],
   "source": [
    "# 6. Remove (‘s)\n",
    "import re\n",
    "def remove_s(text):\n",
    "    text = re.sub(\"'s\", \"\", text)\n",
    "    return text\n",
    "\n",
    "movieDataset['text'] = movieDataset['text'].apply(lambda x: remove_s(x))\n",
    "movieDataset['summary'] = movieDataset['summary'].apply(lambda x: remove_s(x))"
   ]
  },
  {
   "cell_type": "code",
   "execution_count": 51,
   "id": "30a450b5",
   "metadata": {},
   "outputs": [],
   "source": [
    "# 7. Remove any text inside any form of parenthesis ( ) [] {} < >\n",
    "def remove_content_between_parenthsis(text):\n",
    "    return re.sub(r'\\([^)]*\\)', '', text)\n",
    "\n",
    "movieDataset['text'] = movieDataset['text'].apply(lambda x: remove_content_between_parenthsis(x))\n",
    "movieDataset['summary'] = movieDataset['summary'].apply(lambda x: remove_content_between_parenthsis(x))"
   ]
  },
  {
   "cell_type": "code",
   "execution_count": 52,
   "id": "4eebc713",
   "metadata": {},
   "outputs": [],
   "source": [
    "# 8. Eliminate punctuations and special characters\n",
    "import string\n",
    "def remove_punctuation(text):\n",
    "    translator = str.maketrans('', '', string.punctuation)\n",
    "    return text.translate(translator)\n",
    "\n",
    "movieDataset['text'] = movieDataset['text'].apply(lambda x: remove_punctuation(x))\n",
    "movieDataset['summary'] = movieDataset['summary'].apply(lambda x: remove_punctuation(x))\n"
   ]
  },
  {
   "cell_type": "code",
   "execution_count": 53,
   "id": "4e936138",
   "metadata": {},
   "outputs": [],
   "source": [
    "# 9. Remove stopwords\n",
    "from nltk.corpus import stopwords\n",
    "stop_words = set(stopwords.words('english'))\n",
    "\n",
    "def remove_stopwords(text):\n",
    "    return ' '.join([word for word in text.split() if word not in stop_words])\n",
    "\n",
    "movieDataset['text'] = movieDataset['text'].apply(lambda x: remove_stopwords(x))\n",
    "movieDataset['summary'] = movieDataset['summary'].apply(lambda x: remove_stopwords(x))"
   ]
  },
  {
   "cell_type": "code",
   "execution_count": 54,
   "id": "c61129eb",
   "metadata": {},
   "outputs": [],
   "source": [
    "# 10. Remove short words\n",
    "def remove_shortwords(text):\n",
    "    return ' '.join([word for word in text.split() if len(word) > 2])\n",
    "\n",
    "movieDataset['text'] = movieDataset['text'].apply(lambda x: remove_shortwords(x))\n",
    "movieDataset['summary'] = movieDataset['summary'].apply(lambda x: remove_shortwords(x))"
   ]
  },
  {
   "cell_type": "code",
   "execution_count": 55,
   "id": "6838d2b4",
   "metadata": {},
   "outputs": [
    {
     "data": {
      "text/plain": [
       "(14316, 2)"
      ]
     },
     "execution_count": 55,
     "metadata": {},
     "output_type": "execute_result"
    }
   ],
   "source": [
    "# 11. Remove the rows that have empty text or summary\n",
    "def remove_empty_rows(text, summary):\n",
    "    return (text != '') & (summary != '')\n",
    "\n",
    "movieDataset = movieDataset[movieDataset.apply(lambda x: remove_empty_rows(x['text'], x['summary']), axis=1)]\n",
    "movieDataset.shape"
   ]
  },
  {
   "cell_type": "code",
   "execution_count": 56,
   "id": "b41442e3",
   "metadata": {},
   "outputs": [],
   "source": [
    "# 12. remove extra lines and trim spaces\n",
    "def remove_extra_lines(text):\n",
    "    return text.strip()\n",
    "\n",
    "movieDataset['text'] = movieDataset['text'].apply(lambda x: remove_extra_lines(x))\n",
    "movieDataset['summary'] = movieDataset['summary'].apply(lambda x: remove_extra_lines(x))"
   ]
  },
  {
   "cell_type": "code",
   "execution_count": 57,
   "id": "fb40a07d",
   "metadata": {},
   "outputs": [],
   "source": [
    "# 13. Removing Emojis from the text\n",
    "import re\n",
    "def remove_emojis(text):\n",
    "    return re.sub(r'[^\\x00-\\x7F]+', '', text)\n",
    "\n",
    "movieDataset['text'] = movieDataset['text'].apply(lambda x: remove_emojis(x))\n",
    "movieDataset['summary'] = movieDataset['summary'].apply(lambda x: remove_emojis(x))"
   ]
  },
  {
   "cell_type": "code",
   "execution_count": 58,
   "id": "4faf9273",
   "metadata": {},
   "outputs": [],
   "source": [
    "# 14. Removing URLs\n",
    "import re\n",
    "def remove_urls(text):\n",
    "    return re.sub(r'http\\S+', '', text)\n",
    "\n",
    "movieDataset['text'] = movieDataset['text'].apply(lambda x: remove_urls(x))\n",
    "movieDataset['summary'] = movieDataset['summary'].apply(lambda x: remove_urls(x))"
   ]
  },
  {
   "cell_type": "code",
   "execution_count": 59,
   "id": "8db51c9d",
   "metadata": {},
   "outputs": [],
   "source": [
    "# Saving the cleaned data to a csv file\n",
    "movieDataset.to_csv('../../dataset/movie/cleaned_movie_reviews_medium.csv', index=False)"
   ]
  },
  {
   "cell_type": "code",
   "execution_count": null,
   "id": "24b32f8e",
   "metadata": {},
   "outputs": [],
   "source": []
  }
 ],
 "metadata": {
  "kernelspec": {
   "display_name": "Python 3 (ipykernel)",
   "language": "python",
   "name": "python3"
  },
  "language_info": {
   "codemirror_mode": {
    "name": "ipython",
    "version": 3
   },
   "file_extension": ".py",
   "mimetype": "text/x-python",
   "name": "python",
   "nbconvert_exporter": "python",
   "pygments_lexer": "ipython3",
   "version": "3.7.0"
  }
 },
 "nbformat": 4,
 "nbformat_minor": 5
}
