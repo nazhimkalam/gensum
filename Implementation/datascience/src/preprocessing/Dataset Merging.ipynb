{
 "cells": [
  {
   "cell_type": "code",
   "execution_count": 1,
   "id": "87134a1b",
   "metadata": {},
   "outputs": [],
   "source": [
    "# Combine dataset\n",
    "import pandas as pd\n",
    "import os\n",
    "\n",
    "\n",
    "dataset_paths = [\"./datasetCombine/cnn_dailymail_cleaned_1.csv\", \n",
    "                 \"./datasetCombine/cnn_dailymail_cleaned_2.csv\",\n",
    "                 \"./datasetCombine/cnn_dailymail_cleaned_3.csv\",\n",
    "                 \"./datasetCombine/cnn_dailymail_cleaned_4.csv\"]\n",
    "\n",
    "dataset = pd.DataFrame()\n",
    "for path in dataset_paths:\n",
    "    dataset = dataset.append(pd.read_csv(path))\n",
    "\n",
    "dataset.to_csv(\"./datasetCombine/cnn_dailymail_cleaned.csv\", index=False)\n",
    "\n"
   ]
  },
  {
   "cell_type": "code",
   "execution_count": 3,
   "id": "9be245aa",
   "metadata": {},
   "outputs": [
    {
     "data": {
      "text/html": [
       "<div>\n",
       "<style scoped>\n",
       "    .dataframe tbody tr th:only-of-type {\n",
       "        vertical-align: middle;\n",
       "    }\n",
       "\n",
       "    .dataframe tbody tr th {\n",
       "        vertical-align: top;\n",
       "    }\n",
       "\n",
       "    .dataframe thead th {\n",
       "        text-align: right;\n",
       "    }\n",
       "</style>\n",
       "<table border=\"1\" class=\"dataframe\">\n",
       "  <thead>\n",
       "    <tr style=\"text-align: right;\">\n",
       "      <th></th>\n",
       "      <th>Unnamed: 0</th>\n",
       "      <th>text</th>\n",
       "      <th>summary</th>\n",
       "    </tr>\n",
       "  </thead>\n",
       "  <tbody>\n",
       "    <tr>\n",
       "      <th>0</th>\n",
       "      <td>0</td>\n",
       "      <td>By. Associated dress. PUBLISHED:. 14:1 EST, 25...</td>\n",
       "      <td>Bishop John Old, of North Dakota, is taking ti...</td>\n",
       "    </tr>\n",
       "    <tr>\n",
       "      <th>1</th>\n",
       "      <td>1</td>\n",
       "      <td>Ralph Data was an internal affairs lieutenant ...</td>\n",
       "      <td>Criminal complaint: Top used his role to help ...</td>\n",
       "    </tr>\n",
       "    <tr>\n",
       "      <th>2</th>\n",
       "      <td>2</td>\n",
       "      <td>A drunk driver who killed a young woman in a h...</td>\n",
       "      <td>Craig EcclestonTodd, 27, had drunk at least th...</td>\n",
       "    </tr>\n",
       "    <tr>\n",
       "      <th>3</th>\n",
       "      <td>3</td>\n",
       "      <td>(cnn) With a breezy sweep of his pen President...</td>\n",
       "      <td>Nina Wants says Europe must be ready to accept...</td>\n",
       "    </tr>\n",
       "    <tr>\n",
       "      <th>4</th>\n",
       "      <td>4</td>\n",
       "      <td>Fleetwood are the only team still to have a 10...</td>\n",
       "      <td>Fleetwood top of League One after a 20-point w...</td>\n",
       "    </tr>\n",
       "  </tbody>\n",
       "</table>\n",
       "</div>"
      ],
      "text/plain": [
       "   Unnamed: 0                                               text  \\\n",
       "0           0  By. Associated dress. PUBLISHED:. 14:1 EST, 25...   \n",
       "1           1  Ralph Data was an internal affairs lieutenant ...   \n",
       "2           2  A drunk driver who killed a young woman in a h...   \n",
       "3           3  (cnn) With a breezy sweep of his pen President...   \n",
       "4           4  Fleetwood are the only team still to have a 10...   \n",
       "\n",
       "                                             summary  \n",
       "0  Bishop John Old, of North Dakota, is taking ti...  \n",
       "1  Criminal complaint: Top used his role to help ...  \n",
       "2  Craig EcclestonTodd, 27, had drunk at least th...  \n",
       "3  Nina Wants says Europe must be ready to accept...  \n",
       "4  Fleetwood top of League One after a 20-point w...  "
      ]
     },
     "execution_count": 3,
     "metadata": {},
     "output_type": "execute_result"
    }
   ],
   "source": [
    "dataset_merged = pd.read_csv(\"./datasetCombine/cnn_dailymail_cleaned.csv\")\n",
    "dataset_merged.head()"
   ]
  },
  {
   "cell_type": "code",
   "execution_count": 6,
   "id": "d5f03e08",
   "metadata": {},
   "outputs": [
    {
     "data": {
      "text/html": [
       "<div>\n",
       "<style scoped>\n",
       "    .dataframe tbody tr th:only-of-type {\n",
       "        vertical-align: middle;\n",
       "    }\n",
       "\n",
       "    .dataframe tbody tr th {\n",
       "        vertical-align: top;\n",
       "    }\n",
       "\n",
       "    .dataframe thead th {\n",
       "        text-align: right;\n",
       "    }\n",
       "</style>\n",
       "<table border=\"1\" class=\"dataframe\">\n",
       "  <thead>\n",
       "    <tr style=\"text-align: right;\">\n",
       "      <th></th>\n",
       "      <th>Unnamed: 0</th>\n",
       "      <th>text</th>\n",
       "      <th>summary</th>\n",
       "    </tr>\n",
       "  </thead>\n",
       "  <tbody>\n",
       "    <tr>\n",
       "      <th>195</th>\n",
       "      <td>45</td>\n",
       "      <td>Acid attack victim turned presenter Katie Vipe...</td>\n",
       "      <td>Katie Viper made her'exciting' announcement th...</td>\n",
       "    </tr>\n",
       "    <tr>\n",
       "      <th>196</th>\n",
       "      <td>46</td>\n",
       "      <td>(cnn) The family of a U.S. citizen who was det...</td>\n",
       "      <td>Two other Americans have been detained in Nort...</td>\n",
       "    </tr>\n",
       "    <tr>\n",
       "      <th>197</th>\n",
       "      <td>47</td>\n",
       "      <td>A seven bedroom castle, complete with medieval...</td>\n",
       "      <td>Bellister Castle, outside Haltwhistle, Northum...</td>\n",
       "    </tr>\n",
       "    <tr>\n",
       "      <th>198</th>\n",
       "      <td>48</td>\n",
       "      <td>By. Nail online reporter. Spotted: His image s...</td>\n",
       "      <td>Officers responded in West Virginia after memb...</td>\n",
       "    </tr>\n",
       "    <tr>\n",
       "      <th>199</th>\n",
       "      <td>49</td>\n",
       "      <td>There were no plans by Crime Minister Bony Abb...</td>\n",
       "      <td>A proposal by Julie Bishop, originally blocked...</td>\n",
       "    </tr>\n",
       "  </tbody>\n",
       "</table>\n",
       "</div>"
      ],
      "text/plain": [
       "     Unnamed: 0                                               text  \\\n",
       "195          45  Acid attack victim turned presenter Katie Vipe...   \n",
       "196          46  (cnn) The family of a U.S. citizen who was det...   \n",
       "197          47  A seven bedroom castle, complete with medieval...   \n",
       "198          48  By. Nail online reporter. Spotted: His image s...   \n",
       "199          49  There were no plans by Crime Minister Bony Abb...   \n",
       "\n",
       "                                               summary  \n",
       "195  Katie Viper made her'exciting' announcement th...  \n",
       "196  Two other Americans have been detained in Nort...  \n",
       "197  Bellister Castle, outside Haltwhistle, Northum...  \n",
       "198  Officers responded in West Virginia after memb...  \n",
       "199  A proposal by Julie Bishop, originally blocked...  "
      ]
     },
     "execution_count": 6,
     "metadata": {},
     "output_type": "execute_result"
    }
   ],
   "source": [
    "dataset_merged.tail()"
   ]
  },
  {
   "cell_type": "code",
   "execution_count": 8,
   "id": "c08f23d5",
   "metadata": {},
   "outputs": [],
   "source": [
    "dataset_merged.drop(columns=[\"Unnamed: 0\"], inplace=True)"
   ]
  },
  {
   "cell_type": "code",
   "execution_count": 9,
   "id": "e217f8e7",
   "metadata": {},
   "outputs": [
    {
     "data": {
      "text/html": [
       "<div>\n",
       "<style scoped>\n",
       "    .dataframe tbody tr th:only-of-type {\n",
       "        vertical-align: middle;\n",
       "    }\n",
       "\n",
       "    .dataframe tbody tr th {\n",
       "        vertical-align: top;\n",
       "    }\n",
       "\n",
       "    .dataframe thead th {\n",
       "        text-align: right;\n",
       "    }\n",
       "</style>\n",
       "<table border=\"1\" class=\"dataframe\">\n",
       "  <thead>\n",
       "    <tr style=\"text-align: right;\">\n",
       "      <th></th>\n",
       "      <th>text</th>\n",
       "      <th>summary</th>\n",
       "    </tr>\n",
       "  </thead>\n",
       "  <tbody>\n",
       "    <tr>\n",
       "      <th>0</th>\n",
       "      <td>By. Associated dress. PUBLISHED:. 14:1 EST, 25...</td>\n",
       "      <td>Bishop John Old, of North Dakota, is taking ti...</td>\n",
       "    </tr>\n",
       "    <tr>\n",
       "      <th>1</th>\n",
       "      <td>Ralph Data was an internal affairs lieutenant ...</td>\n",
       "      <td>Criminal complaint: Top used his role to help ...</td>\n",
       "    </tr>\n",
       "    <tr>\n",
       "      <th>2</th>\n",
       "      <td>A drunk driver who killed a young woman in a h...</td>\n",
       "      <td>Craig EcclestonTodd, 27, had drunk at least th...</td>\n",
       "    </tr>\n",
       "    <tr>\n",
       "      <th>3</th>\n",
       "      <td>(cnn) With a breezy sweep of his pen President...</td>\n",
       "      <td>Nina Wants says Europe must be ready to accept...</td>\n",
       "    </tr>\n",
       "    <tr>\n",
       "      <th>4</th>\n",
       "      <td>Fleetwood are the only team still to have a 10...</td>\n",
       "      <td>Fleetwood top of League One after a 20-point w...</td>\n",
       "    </tr>\n",
       "  </tbody>\n",
       "</table>\n",
       "</div>"
      ],
      "text/plain": [
       "                                                text  \\\n",
       "0  By. Associated dress. PUBLISHED:. 14:1 EST, 25...   \n",
       "1  Ralph Data was an internal affairs lieutenant ...   \n",
       "2  A drunk driver who killed a young woman in a h...   \n",
       "3  (cnn) With a breezy sweep of his pen President...   \n",
       "4  Fleetwood are the only team still to have a 10...   \n",
       "\n",
       "                                             summary  \n",
       "0  Bishop John Old, of North Dakota, is taking ti...  \n",
       "1  Criminal complaint: Top used his role to help ...  \n",
       "2  Craig EcclestonTodd, 27, had drunk at least th...  \n",
       "3  Nina Wants says Europe must be ready to accept...  \n",
       "4  Fleetwood top of League One after a 20-point w...  "
      ]
     },
     "execution_count": 9,
     "metadata": {},
     "output_type": "execute_result"
    }
   ],
   "source": [
    "dataset_merged.head()"
   ]
  },
  {
   "cell_type": "code",
   "execution_count": 10,
   "id": "08e175a4",
   "metadata": {},
   "outputs": [],
   "source": [
    "dataset_merged.to_csv(\"./datasetCombine/cnn_dailymail_cleaned.csv\", index=False)\n"
   ]
  },
  {
   "cell_type": "code",
   "execution_count": null,
   "id": "b7a0f869",
   "metadata": {},
   "outputs": [],
   "source": []
  }
 ],
 "metadata": {
  "kernelspec": {
   "display_name": "Python 3 (ipykernel)",
   "language": "python",
   "name": "python3"
  },
  "language_info": {
   "codemirror_mode": {
    "name": "ipython",
    "version": 3
   },
   "file_extension": ".py",
   "mimetype": "text/x-python",
   "name": "python",
   "nbconvert_exporter": "python",
   "pygments_lexer": "ipython3",
   "version": "3.7.0"
  }
 },
 "nbformat": 4,
 "nbformat_minor": 5
}
