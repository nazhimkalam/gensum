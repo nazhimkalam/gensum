{
 "cells": [
  {
   "cell_type": "code",
   "execution_count": 1,
   "id": "82ceaf80",
   "metadata": {},
   "outputs": [
    {
     "name": "stdout",
     "output_type": "stream",
     "text": [
      "Requirement already satisfied: contractions in c:\\users\\hp\\appdata\\local\\programs\\python\\python37\\lib\\site-packages (0.1.72)Note: you may need to restart the kernel to use updated packages.\n"
     ]
    },
    {
     "name": "stderr",
     "output_type": "stream",
     "text": [
      "\n",
      "[notice] A new release of pip available: 22.2.2 -> 22.3.1\n",
      "[notice] To update, run: python.exe -m pip install --upgrade pip\n"
     ]
    },
    {
     "name": "stdout",
     "output_type": "stream",
     "text": [
      "\n",
      "Requirement already satisfied: textsearch>=0.0.21 in c:\\users\\hp\\appdata\\local\\programs\\python\\python37\\lib\\site-packages (from contractions) (0.0.24)\n",
      "Requirement already satisfied: anyascii in c:\\users\\hp\\appdata\\local\\programs\\python\\python37\\lib\\site-packages (from textsearch>=0.0.21->contractions) (0.3.1)\n",
      "Requirement already satisfied: pyahocorasick in c:\\users\\hp\\appdata\\local\\programs\\python\\python37\\lib\\site-packages (from textsearch>=0.0.21->contractions) (1.4.4)\n"
     ]
    }
   ],
   "source": [
    "pip install contractions"
   ]
  },
  {
   "cell_type": "code",
   "execution_count": 72,
   "id": "809de447",
   "metadata": {},
   "outputs": [],
   "source": [
    "import pandas as pd\n",
    "import contractions\n",
    "import nltk"
   ]
  },
  {
   "cell_type": "code",
   "execution_count": 73,
   "id": "414b5d1e",
   "metadata": {},
   "outputs": [],
   "source": [
    "# Dataset\n",
    "gigawordPath = {\n",
    "    \"medium\": \"../../dataset/generalization/gigaword_medium.csv\",\n",
    "    \"large\": \"../../dataset/generalization/gigaword_large.csv\",\n",
    "    \"xlarge\": \"../../dataset/generalization/gigaword_xlarge.csv\",\n",
    "    \"xxlarge\": \"../../dataset/generalization/gigaword_xxlarge.csv\"\n",
    "}"
   ]
  },
  {
   "cell_type": "code",
   "execution_count": 74,
   "id": "6da543dd",
   "metadata": {},
   "outputs": [],
   "source": [
    "gigawordDataset = pd.read_csv(gigawordPath[\"medium\"], encoding='latin-1')"
   ]
  },
  {
   "cell_type": "code",
   "execution_count": 75,
   "id": "972574df",
   "metadata": {},
   "outputs": [
    {
     "data": {
      "text/html": [
       "<div>\n",
       "<style scoped>\n",
       "    .dataframe tbody tr th:only-of-type {\n",
       "        vertical-align: middle;\n",
       "    }\n",
       "\n",
       "    .dataframe tbody tr th {\n",
       "        vertical-align: top;\n",
       "    }\n",
       "\n",
       "    .dataframe thead th {\n",
       "        text-align: right;\n",
       "    }\n",
       "</style>\n",
       "<table border=\"1\" class=\"dataframe\">\n",
       "  <thead>\n",
       "    <tr style=\"text-align: right;\">\n",
       "      <th></th>\n",
       "      <th>document</th>\n",
       "      <th>summary</th>\n",
       "    </tr>\n",
       "  </thead>\n",
       "  <tbody>\n",
       "    <tr>\n",
       "      <th>0</th>\n",
       "      <td>b'officials of the cabinet-level fair trade co...</td>\n",
       "      <td>b'fair trade commission investigating consumer...</td>\n",
       "    </tr>\n",
       "    <tr>\n",
       "      <th>1</th>\n",
       "      <td>b\"five people were killed , and a woman gravel...</td>\n",
       "      <td>b'colombian nightclub shootout leaves five dead'</td>\n",
       "    </tr>\n",
       "    <tr>\n",
       "      <th>2</th>\n",
       "      <td>b'preliminary dna testing on remains of ## red...</td>\n",
       "      <td>b'estonia provides red army soldiers dna sampl...</td>\n",
       "    </tr>\n",
       "  </tbody>\n",
       "</table>\n",
       "</div>"
      ],
      "text/plain": [
       "                                            document  \\\n",
       "0  b'officials of the cabinet-level fair trade co...   \n",
       "1  b\"five people were killed , and a woman gravel...   \n",
       "2  b'preliminary dna testing on remains of ## red...   \n",
       "\n",
       "                                             summary  \n",
       "0  b'fair trade commission investigating consumer...  \n",
       "1   b'colombian nightclub shootout leaves five dead'  \n",
       "2  b'estonia provides red army soldiers dna sampl...  "
      ]
     },
     "execution_count": 75,
     "metadata": {},
     "output_type": "execute_result"
    }
   ],
   "source": [
    "gigawordDataset.head(3)"
   ]
  },
  {
   "cell_type": "code",
   "execution_count": 76,
   "id": "43c59848",
   "metadata": {},
   "outputs": [
    {
     "data": {
      "text/plain": [
       "(15000, 2)"
      ]
     },
     "execution_count": 76,
     "metadata": {},
     "output_type": "execute_result"
    }
   ],
   "source": [
    "# 1. Renaming columns\n",
    "gigawordDataset = gigawordDataset.rename(columns={'document': 'text'})\n",
    "gigawordDatasetCopy = gigawordDataset.copy()\n",
    "gigawordDataset.shape"
   ]
  },
  {
   "cell_type": "code",
   "execution_count": 77,
   "id": "09bd1043",
   "metadata": {},
   "outputs": [
    {
     "data": {
      "text/html": [
       "<div>\n",
       "<style scoped>\n",
       "    .dataframe tbody tr th:only-of-type {\n",
       "        vertical-align: middle;\n",
       "    }\n",
       "\n",
       "    .dataframe tbody tr th {\n",
       "        vertical-align: top;\n",
       "    }\n",
       "\n",
       "    .dataframe thead th {\n",
       "        text-align: right;\n",
       "    }\n",
       "</style>\n",
       "<table border=\"1\" class=\"dataframe\">\n",
       "  <thead>\n",
       "    <tr style=\"text-align: right;\">\n",
       "      <th></th>\n",
       "      <th>text</th>\n",
       "      <th>summary</th>\n",
       "    </tr>\n",
       "  </thead>\n",
       "  <tbody>\n",
       "    <tr>\n",
       "      <th>0</th>\n",
       "      <td>b'officials of the cabinet-level fair trade co...</td>\n",
       "      <td>b'fair trade commission investigating consumer...</td>\n",
       "    </tr>\n",
       "    <tr>\n",
       "      <th>1</th>\n",
       "      <td>b\"five people were killed , and a woman gravel...</td>\n",
       "      <td>b'colombian nightclub shootout leaves five dead'</td>\n",
       "    </tr>\n",
       "    <tr>\n",
       "      <th>2</th>\n",
       "      <td>b'preliminary dna testing on remains of ## red...</td>\n",
       "      <td>b'estonia provides red army soldiers dna sampl...</td>\n",
       "    </tr>\n",
       "  </tbody>\n",
       "</table>\n",
       "</div>"
      ],
      "text/plain": [
       "                                                text  \\\n",
       "0  b'officials of the cabinet-level fair trade co...   \n",
       "1  b\"five people were killed , and a woman gravel...   \n",
       "2  b'preliminary dna testing on remains of ## red...   \n",
       "\n",
       "                                             summary  \n",
       "0  b'fair trade commission investigating consumer...  \n",
       "1   b'colombian nightclub shootout leaves five dead'  \n",
       "2  b'estonia provides red army soldiers dna sampl...  "
      ]
     },
     "execution_count": 77,
     "metadata": {},
     "output_type": "execute_result"
    }
   ],
   "source": [
    "gigawordDataset.head(3)"
   ]
  },
  {
   "cell_type": "code",
   "execution_count": 78,
   "id": "5c58ef2d",
   "metadata": {},
   "outputs": [
    {
     "data": {
      "text/plain": [
       "(15000, 2)"
      ]
     },
     "execution_count": 78,
     "metadata": {},
     "output_type": "execute_result"
    }
   ],
   "source": [
    "# 2. Drop NA values\n",
    "gigawordDataset = gigawordDataset.dropna()\n",
    "gigawordDataset.shape"
   ]
  },
  {
   "cell_type": "code",
   "execution_count": 79,
   "id": "0a4adf23",
   "metadata": {},
   "outputs": [
    {
     "data": {
      "text/plain": [
       "(14983, 2)"
      ]
     },
     "execution_count": 79,
     "metadata": {},
     "output_type": "execute_result"
    }
   ],
   "source": [
    "# 3. Drop duplicates values\n",
    "gigawordDataset = gigawordDataset.drop_duplicates(\"text\")\n",
    "gigawordDataset.shape"
   ]
  },
  {
   "cell_type": "code",
   "execution_count": 80,
   "id": "feeea7ef",
   "metadata": {},
   "outputs": [],
   "source": [
    "# 4. Converting to lowercase\n",
    "gigawordDataset['text'] = gigawordDataset['text'].apply(lambda x: x.lower())\n",
    "gigawordDataset['summary'] = gigawordDataset['summary'].apply(lambda x: x.lower())"
   ]
  },
  {
   "cell_type": "code",
   "execution_count": 81,
   "id": "7fa4acaf",
   "metadata": {},
   "outputs": [],
   "source": [
    "# 7. Remove (b')\n",
    "import re\n",
    "def remove_s(text):\n",
    "    text = re.sub(\"b'\", \"\", text)\n",
    "    text = re.sub('b\"', \"\", text)\n",
    "    return text\n",
    "\n",
    "gigawordDataset['text'] = gigawordDataset['text'].apply(lambda x: remove_s(x))\n",
    "gigawordDataset['summary'] = gigawordDataset['summary'].apply(lambda x: remove_s(x))"
   ]
  },
  {
   "cell_type": "code",
   "execution_count": 82,
   "id": "668476e9",
   "metadata": {},
   "outputs": [
    {
     "name": "stderr",
     "output_type": "stream",
     "text": [
      "c:\\users\\hp\\appdata\\local\\programs\\python\\python37\\lib\\site-packages\\bs4\\__init__.py:439: MarkupResemblesLocatorWarning: The input looks more like a filename than markup. You may want to open this file and pass the filehandle into Beautiful Soup.\n",
      "  MarkupResemblesLocatorWarning\n"
     ]
    }
   ],
   "source": [
    "# 5. Remove HTML tags\n",
    "from bs4 import BeautifulSoup\n",
    "gigawordDataset['text'] = gigawordDataset['text'].apply(lambda x: BeautifulSoup(x, \"html.parser\").text)\n",
    "gigawordDataset['summary'] = gigawordDataset['summary'].apply(lambda x: BeautifulSoup(x, \"html.parser\").text)"
   ]
  },
  {
   "cell_type": "code",
   "execution_count": 83,
   "id": "c399ade4",
   "metadata": {},
   "outputs": [],
   "source": [
    "# 6. Contraction Mapping [Expansion] eg:- \"aren't\" ==> \"are not\"\n",
    "gigawordDataset['text'] = gigawordDataset['text'].apply(lambda x: [contractions.fix(word) for word in x.split()])\n",
    "gigawordDataset['text'] = gigawordDataset['text'].apply(lambda x: ' '.join(x))\n",
    "\n",
    "gigawordDataset['summary'] = gigawordDataset['summary'].apply(lambda x: [contractions.fix(word) for word in x.split()])\n",
    "gigawordDataset['summary'] = gigawordDataset['summary'].apply(lambda x: ' '.join(x))"
   ]
  },
  {
   "cell_type": "code",
   "execution_count": 84,
   "id": "2438e0d5",
   "metadata": {},
   "outputs": [],
   "source": [
    "# 7. Remove (‘s)\n",
    "import re\n",
    "def remove_s(text):\n",
    "    text = re.sub(\"'s\", \"\", text)\n",
    "    return text\n",
    "\n",
    "gigawordDataset['text'] = gigawordDataset['text'].apply(lambda x: remove_s(x))\n",
    "gigawordDataset['summary'] = gigawordDataset['summary'].apply(lambda x: remove_s(x))"
   ]
  },
  {
   "cell_type": "code",
   "execution_count": 85,
   "id": "f74a042f",
   "metadata": {},
   "outputs": [],
   "source": [
    "# 8. Remove any text inside any form of parenthesis ( ) [] {} < >\n",
    "def remove_content_between_parenthsis(text):\n",
    "    return re.sub(r'\\([^)]*\\)', '', text)\n",
    "\n",
    "gigawordDataset['text'] = gigawordDataset['text'].apply(lambda x: remove_content_between_parenthsis(x))\n",
    "gigawordDataset['summary'] = gigawordDataset['summary'].apply(lambda x: remove_content_between_parenthsis(x))"
   ]
  },
  {
   "cell_type": "code",
   "execution_count": 86,
   "id": "4da3c9fe",
   "metadata": {},
   "outputs": [],
   "source": [
    "# 9. Eliminate punctuations and special characters\n",
    "import string\n",
    "def remove_special_characters(text):\n",
    "    pattern = r'[^a-zA-z0-9\\s]'\n",
    "    text = re.sub(pattern, '', text)\n",
    "    return text\n",
    "\n",
    "gigawordDataset['text'] = gigawordDataset['text'].apply(lambda x: remove_special_characters(x))\n",
    "gigawordDataset['summary'] = gigawordDataset['summary'].apply(lambda x: remove_special_characters(x))"
   ]
  },
  {
   "cell_type": "code",
   "execution_count": 87,
   "id": "ca2d6bc4",
   "metadata": {},
   "outputs": [],
   "source": [
    "# 11. Remove stopwords\n",
    "from nltk.corpus import stopwords\n",
    "stop_words = set(stopwords.words('english'))\n",
    "\n",
    "def remove_stopwords(text):\n",
    "    return ' '.join([word for word in text.split() if word not in stop_words])\n",
    "\n",
    "gigawordDataset['text'] = gigawordDataset['text'].apply(lambda x: remove_stopwords(x))\n",
    "gigawordDataset['summary'] = gigawordDataset['summary'].apply(lambda x: remove_stopwords(x))"
   ]
  },
  {
   "cell_type": "code",
   "execution_count": 88,
   "id": "9d3a361c",
   "metadata": {},
   "outputs": [],
   "source": [
    "# 12. Remove short words\n",
    "def remove_shortwords(text):\n",
    "    return ' '.join([word for word in text.split() if len(word) > 2])\n",
    "\n",
    "gigawordDataset['text'] = gigawordDataset['text'].apply(lambda x: remove_shortwords(x))\n",
    "gigawordDataset['summary'] = gigawordDataset['summary'].apply(lambda x: remove_shortwords(x))"
   ]
  },
  {
   "cell_type": "code",
   "execution_count": 89,
   "id": "0144c851",
   "metadata": {},
   "outputs": [
    {
     "data": {
      "text/plain": [
       "(14983, 2)"
      ]
     },
     "execution_count": 89,
     "metadata": {},
     "output_type": "execute_result"
    }
   ],
   "source": [
    "# 13. Remove the rows that have empty text or summary\n",
    "def remove_empty_rows(text, summary):\n",
    "    return (text != '') & (summary != '')\n",
    "\n",
    "gigawordDataset = gigawordDataset[gigawordDataset.apply(lambda x: remove_empty_rows(x['text'], x['summary']), axis=1)]\n",
    "gigawordDataset.shape"
   ]
  },
  {
   "cell_type": "code",
   "execution_count": 90,
   "id": "21571b90",
   "metadata": {},
   "outputs": [],
   "source": [
    "# 14. remove extra lines and trim spaces\n",
    "def remove_extra_lines(text):\n",
    "    return text.strip()\n",
    "\n",
    "gigawordDataset['text'] = gigawordDataset['text'].apply(lambda x: remove_extra_lines(x))\n",
    "gigawordDataset['summary'] = gigawordDataset['summary'].apply(lambda x: remove_extra_lines(x))"
   ]
  },
  {
   "cell_type": "code",
   "execution_count": 91,
   "id": "52dc8b5f",
   "metadata": {},
   "outputs": [],
   "source": [
    "# 15. Removing Emojis from the text\n",
    "import re\n",
    "def remove_emojis(text):\n",
    "    return re.sub(r'[^\\x00-\\x7F]+', '', text)\n",
    "\n",
    "gigawordDataset['text'] = gigawordDataset['text'].apply(lambda x: remove_emojis(x))\n",
    "gigawordDataset['summary'] = gigawordDataset['summary'].apply(lambda x: remove_emojis(x))"
   ]
  },
  {
   "cell_type": "code",
   "execution_count": 92,
   "id": "5ac57720",
   "metadata": {},
   "outputs": [],
   "source": [
    "# 16. Removing URLs\n",
    "import re\n",
    "def remove_urls(text):\n",
    "    return re.sub(r'http\\S+', '', text)\n",
    "\n",
    "gigawordDataset['text'] = gigawordDataset['text'].apply(lambda x: remove_urls(x))\n",
    "gigawordDataset['summary'] = gigawordDataset['summary'].apply(lambda x: remove_urls(x))"
   ]
  },
  {
   "cell_type": "code",
   "execution_count": null,
   "id": "b1e4872a",
   "metadata": {},
   "outputs": [],
   "source": []
  },
  {
   "cell_type": "code",
   "execution_count": 93,
   "id": "22f18a69",
   "metadata": {},
   "outputs": [],
   "source": [
    "# # Saving the cleaned data to a csv file\n",
    "# gigawordDataset.to_csv('../../dataset/news_summary/cleaned_news_summary.csv', index=False)"
   ]
  },
  {
   "cell_type": "code",
   "execution_count": 94,
   "id": "4ebdc7d0",
   "metadata": {},
   "outputs": [
    {
     "data": {
      "text/html": [
       "<div>\n",
       "<style scoped>\n",
       "    .dataframe tbody tr th:only-of-type {\n",
       "        vertical-align: middle;\n",
       "    }\n",
       "\n",
       "    .dataframe tbody tr th {\n",
       "        vertical-align: top;\n",
       "    }\n",
       "\n",
       "    .dataframe thead th {\n",
       "        text-align: right;\n",
       "    }\n",
       "</style>\n",
       "<table border=\"1\" class=\"dataframe\">\n",
       "  <thead>\n",
       "    <tr style=\"text-align: right;\">\n",
       "      <th></th>\n",
       "      <th>text</th>\n",
       "      <th>summary</th>\n",
       "    </tr>\n",
       "  </thead>\n",
       "  <tbody>\n",
       "    <tr>\n",
       "      <th>0</th>\n",
       "      <td>officials cabinetlevel fair trade commission l...</td>\n",
       "      <td>fair trade commission investigating consumer p...</td>\n",
       "    </tr>\n",
       "    <tr>\n",
       "      <th>1</th>\n",
       "      <td>five people killed woman gravely wounded follo...</td>\n",
       "      <td>colombian nightclub shootout leaves five dead</td>\n",
       "    </tr>\n",
       "    <tr>\n",
       "      <th>2</th>\n",
       "      <td>preliminary dna testing remains red army soldi...</td>\n",
       "      <td>estonia provides red army soldiers dna samples...</td>\n",
       "    </tr>\n",
       "    <tr>\n",
       "      <th>3</th>\n",
       "      <td>transocean inc world largest offshore drilling...</td>\n",
       "      <td>transocean globalsantafe plan combine create n...</td>\n",
       "    </tr>\n",
       "    <tr>\n",
       "      <th>4</th>\n",
       "      <td>palestinian president mahmoud abbas make worki...</td>\n",
       "      <td>palestinian president visit malaysia may</td>\n",
       "    </tr>\n",
       "  </tbody>\n",
       "</table>\n",
       "</div>"
      ],
      "text/plain": [
       "                                                text  \\\n",
       "0  officials cabinetlevel fair trade commission l...   \n",
       "1  five people killed woman gravely wounded follo...   \n",
       "2  preliminary dna testing remains red army soldi...   \n",
       "3  transocean inc world largest offshore drilling...   \n",
       "4  palestinian president mahmoud abbas make worki...   \n",
       "\n",
       "                                             summary  \n",
       "0  fair trade commission investigating consumer p...  \n",
       "1      colombian nightclub shootout leaves five dead  \n",
       "2  estonia provides red army soldiers dna samples...  \n",
       "3  transocean globalsantafe plan combine create n...  \n",
       "4           palestinian president visit malaysia may  "
      ]
     },
     "execution_count": 94,
     "metadata": {},
     "output_type": "execute_result"
    }
   ],
   "source": [
    "gigawordDataset.head()"
   ]
  },
  {
   "cell_type": "code",
   "execution_count": 95,
   "id": "6e09e121",
   "metadata": {},
   "outputs": [
    {
     "data": {
      "text/html": [
       "<div>\n",
       "<style scoped>\n",
       "    .dataframe tbody tr th:only-of-type {\n",
       "        vertical-align: middle;\n",
       "    }\n",
       "\n",
       "    .dataframe tbody tr th {\n",
       "        vertical-align: top;\n",
       "    }\n",
       "\n",
       "    .dataframe thead th {\n",
       "        text-align: right;\n",
       "    }\n",
       "</style>\n",
       "<table border=\"1\" class=\"dataframe\">\n",
       "  <thead>\n",
       "    <tr style=\"text-align: right;\">\n",
       "      <th></th>\n",
       "      <th>text</th>\n",
       "      <th>summary</th>\n",
       "    </tr>\n",
       "  </thead>\n",
       "  <tbody>\n",
       "    <tr>\n",
       "      <th>0</th>\n",
       "      <td>b'officials of the cabinet-level fair trade co...</td>\n",
       "      <td>b'fair trade commission investigating consumer...</td>\n",
       "    </tr>\n",
       "    <tr>\n",
       "      <th>1</th>\n",
       "      <td>b\"five people were killed , and a woman gravel...</td>\n",
       "      <td>b'colombian nightclub shootout leaves five dead'</td>\n",
       "    </tr>\n",
       "    <tr>\n",
       "      <th>2</th>\n",
       "      <td>b'preliminary dna testing on remains of ## red...</td>\n",
       "      <td>b'estonia provides red army soldiers dna sampl...</td>\n",
       "    </tr>\n",
       "    <tr>\n",
       "      <th>3</th>\n",
       "      <td>b\"transocean inc. , the world 's largest offsh...</td>\n",
       "      <td>b'transocean globalsantafe plan to combine to ...</td>\n",
       "    </tr>\n",
       "    <tr>\n",
       "      <th>4</th>\n",
       "      <td>b'palestinian president mahmoud abbas will mak...</td>\n",
       "      <td>b'palestinian president to visit malaysia on m...</td>\n",
       "    </tr>\n",
       "  </tbody>\n",
       "</table>\n",
       "</div>"
      ],
      "text/plain": [
       "                                                text  \\\n",
       "0  b'officials of the cabinet-level fair trade co...   \n",
       "1  b\"five people were killed , and a woman gravel...   \n",
       "2  b'preliminary dna testing on remains of ## red...   \n",
       "3  b\"transocean inc. , the world 's largest offsh...   \n",
       "4  b'palestinian president mahmoud abbas will mak...   \n",
       "\n",
       "                                             summary  \n",
       "0  b'fair trade commission investigating consumer...  \n",
       "1   b'colombian nightclub shootout leaves five dead'  \n",
       "2  b'estonia provides red army soldiers dna sampl...  \n",
       "3  b'transocean globalsantafe plan to combine to ...  \n",
       "4  b'palestinian president to visit malaysia on m...  "
      ]
     },
     "execution_count": 95,
     "metadata": {},
     "output_type": "execute_result"
    }
   ],
   "source": [
    "gigawordDatasetCopy.head()"
   ]
  },
  {
   "cell_type": "code",
   "execution_count": null,
   "id": "1043b941",
   "metadata": {},
   "outputs": [],
   "source": []
  },
  {
   "cell_type": "code",
   "execution_count": null,
   "id": "c604c90d",
   "metadata": {
    "collapsed": true
   },
   "outputs": [],
   "source": [
    "\"#\" in gigawordDatasetCopy"
   ]
  }
 ],
 "metadata": {
  "kernelspec": {
   "display_name": "Python 3 (ipykernel)",
   "language": "python",
   "name": "python3"
  },
  "language_info": {
   "codemirror_mode": {
    "name": "ipython",
    "version": 3
   },
   "file_extension": ".py",
   "mimetype": "text/x-python",
   "name": "python",
   "nbconvert_exporter": "python",
   "pygments_lexer": "ipython3",
   "version": "3.7.0"
  }
 },
 "nbformat": 4,
 "nbformat_minor": 5
}
