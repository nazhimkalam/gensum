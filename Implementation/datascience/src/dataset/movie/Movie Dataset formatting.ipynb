{
 "cells": [
  {
   "cell_type": "code",
   "execution_count": 72,
   "id": "f9642596",
   "metadata": {},
   "outputs": [],
   "source": [
    "# Creating the filtered data list\n",
    "import json\n",
    "\n",
    "file_path = \"./movies.txt\"\n",
    "movieObjectCount = 30000\n",
    "dataset = \"movie_reviews_small.csv\" \n",
    "\n",
    "file = open(file_path, encoding=\"utf8\")\n",
    "file.close()\n",
    "\n",
    "file = open(file_path, encoding=\"unicode_escape\")\n",
    "movie_list = []\n",
    "\n",
    "def filterData(lineText):\n",
    "    return \":\".join(lineText.split(\":\")[1:])\n",
    "\n",
    "for i in range(movieObjectCount):\n",
    "    movieObjectData = {\n",
    "    \"productId\": \"\",\n",
    "    \"userId\": \"\",\n",
    "    \"profileName\": \"\",\n",
    "    \"helpfulness\": \"\",\n",
    "    \"score\": \"\",\n",
    "    \"time\": \"\",\n",
    "    \"summary\": \"\",\n",
    "    \"text\": \"\"\n",
    "}\n",
    "    movieObjectData[\"productId\"] = filterData(file.readline())\n",
    "    movieObjectData[\"userId\"] = filterData(file.readline())\n",
    "    movieObjectData[\"profileName\"] = filterData(file.readline())\n",
    "    movieObjectData[\"helpfulness\"] = filterData(file.readline())\n",
    "    movieObjectData[\"score\"] = filterData(file.readline())\n",
    "    movieObjectData[\"time\"] = filterData(file.readline())\n",
    "    movieObjectData[\"summary\"] = filterData(file.readline())\n",
    "    movieObjectData[\"text\"] = filterData(file.readline())\n",
    "    file.readline()\n",
    "    movie_list.append(movieObjectData)\n",
    "\n",
    "file.close()\n",
    "\n",
    "\n",
    "movie_summary_text_list = []\n",
    "for movie in movie_list:\n",
    "    movie_summary_text_list.append({\n",
    "        \"summary\": movie[\"summary\"],\n",
    "        \"text\": movie[\"text\"]\n",
    "    })\n",
    "\n",
    "# for movie in movie_summary_text_list:\n",
    "#     print(json.dumps(movie, indent=2))"
   ]
  },
  {
   "cell_type": "code",
   "execution_count": 73,
   "id": "8d5f6e74",
   "metadata": {},
   "outputs": [],
   "source": [
    "# Converting JSON list to CSV\n",
    "import pandas as pd\n",
    "\n",
    "df = pd.DataFrame(movie_summary_text_list)\n",
    "df.to_csv(dataset, index=False)"
   ]
  },
  {
   "cell_type": "code",
   "execution_count": 84,
   "id": "68d34547",
   "metadata": {},
   "outputs": [
    {
     "data": {
      "text/html": [
       "<div>\n",
       "<style scoped>\n",
       "    .dataframe tbody tr th:only-of-type {\n",
       "        vertical-align: middle;\n",
       "    }\n",
       "\n",
       "    .dataframe tbody tr th {\n",
       "        vertical-align: top;\n",
       "    }\n",
       "\n",
       "    .dataframe thead th {\n",
       "        text-align: right;\n",
       "    }\n",
       "</style>\n",
       "<table border=\"1\" class=\"dataframe\">\n",
       "  <thead>\n",
       "    <tr style=\"text-align: right;\">\n",
       "      <th></th>\n",
       "      <th>summary</th>\n",
       "      <th>text</th>\n",
       "    </tr>\n",
       "  </thead>\n",
       "  <tbody>\n",
       "    <tr>\n",
       "      <th>4995</th>\n",
       "      <td>Competent acting but weak execution\\n</td>\n",
       "      <td>Based on the reviews here and on imdb, I was ...</td>\n",
       "    </tr>\n",
       "    <tr>\n",
       "      <th>4996</th>\n",
       "      <td>A Zombie film that breaks the mold.....NOT!\\n</td>\n",
       "      <td>I was in the video store today looking for a ...</td>\n",
       "    </tr>\n",
       "    <tr>\n",
       "      <th>4997</th>\n",
       "      <td>STUPID, STUPID RAT CREATURES!\\n</td>\n",
       "      <td>Last year's initial offerings of the After Da...</td>\n",
       "    </tr>\n",
       "    <tr>\n",
       "      <th>4998</th>\n",
       "      <td>Worst Movie Ever! Besides The Strangers\\n</td>\n",
       "      <td>This Movie Was Awful!Its like a remake of the...</td>\n",
       "    </tr>\n",
       "    <tr>\n",
       "      <th>4999</th>\n",
       "      <td>zero stars\\n</td>\n",
       "      <td>the other reviewers gave away the story so th...</td>\n",
       "    </tr>\n",
       "  </tbody>\n",
       "</table>\n",
       "</div>"
      ],
      "text/plain": [
       "                                             summary  \\\n",
       "4995           Competent acting but weak execution\\n   \n",
       "4996   A Zombie film that breaks the mold.....NOT!\\n   \n",
       "4997                 STUPID, STUPID RAT CREATURES!\\n   \n",
       "4998       Worst Movie Ever! Besides The Strangers\\n   \n",
       "4999                                    zero stars\\n   \n",
       "\n",
       "                                                   text  \n",
       "4995   Based on the reviews here and on imdb, I was ...  \n",
       "4996   I was in the video store today looking for a ...  \n",
       "4997   Last year's initial offerings of the After Da...  \n",
       "4998   This Movie Was Awful!Its like a remake of the...  \n",
       "4999   the other reviewers gave away the story so th...  "
      ]
     },
     "execution_count": 84,
     "metadata": {},
     "output_type": "execute_result"
    }
   ],
   "source": [
    "# Reading the CSV file\n",
    "import pandas as pd\n",
    "dataset1 = 'movie_reviews_small.csv'\n",
    "dataset2 = 'movie_reviews_medium.csv'\n",
    "\n",
    "df = pd.read_csv(dataset1)\n",
    "df.tail()"
   ]
  },
  {
   "cell_type": "code",
   "execution_count": 85,
   "id": "5eb35428",
   "metadata": {},
   "outputs": [
    {
     "data": {
      "text/plain": [
       "summary    0\n",
       "text       0\n",
       "dtype: int64"
      ]
     },
     "execution_count": 85,
     "metadata": {},
     "output_type": "execute_result"
    }
   ],
   "source": [
    "df.isnull().sum()"
   ]
  },
  {
   "cell_type": "code",
   "execution_count": null,
   "id": "cf7abd50",
   "metadata": {},
   "outputs": [],
   "source": []
  }
 ],
 "metadata": {
  "kernelspec": {
   "display_name": "Python 3 (ipykernel)",
   "language": "python",
   "name": "python3"
  },
  "language_info": {
   "codemirror_mode": {
    "name": "ipython",
    "version": 3
   },
   "file_extension": ".py",
   "mimetype": "text/x-python",
   "name": "python",
   "nbconvert_exporter": "python",
   "pygments_lexer": "ipython3",
   "version": "3.7.0"
  }
 },
 "nbformat": 4,
 "nbformat_minor": 5
}
