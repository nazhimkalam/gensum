{
 "cells": [
  {
   "cell_type": "code",
   "execution_count": 194,
   "id": "809de447",
   "metadata": {},
   "outputs": [],
   "source": [
    "import pandas as pd\n",
    "import contractions\n",
    "import nltk"
   ]
  },
  {
   "cell_type": "code",
   "execution_count": 195,
   "id": "414b5d1e",
   "metadata": {},
   "outputs": [],
   "source": [
    "# Dataset\n",
    "gigawordPath = {\n",
    "    \"small\": \"../../dataset/generalization/gigaword_small.csv\",\n",
    "    \"medium\": \"../../dataset/generalization/gigaword_medium.csv\",\n",
    "    \"large\": \"../../dataset/generalization/gigaword_large.csv\",\n",
    "    \"xlarge\": \"../../dataset/generalization/gigaword_xlarge.csv\",\n",
    "    \"xxlarge\": \"../../dataset/generalization/gigaword_xxlarge.csv\"\n",
    "}"
   ]
  },
  {
   "cell_type": "code",
   "execution_count": 196,
   "id": "6da543dd",
   "metadata": {},
   "outputs": [],
   "source": [
    "gigawordDataset = pd.read_csv(gigawordPath[\"small\"], encoding='latin-1')"
   ]
  },
  {
   "cell_type": "code",
   "execution_count": 197,
   "id": "972574df",
   "metadata": {},
   "outputs": [
    {
     "data": {
      "text/html": [
       "<div>\n",
       "<style scoped>\n",
       "    .dataframe tbody tr th:only-of-type {\n",
       "        vertical-align: middle;\n",
       "    }\n",
       "\n",
       "    .dataframe tbody tr th {\n",
       "        vertical-align: top;\n",
       "    }\n",
       "\n",
       "    .dataframe thead th {\n",
       "        text-align: right;\n",
       "    }\n",
       "</style>\n",
       "<table border=\"1\" class=\"dataframe\">\n",
       "  <thead>\n",
       "    <tr style=\"text-align: right;\">\n",
       "      <th></th>\n",
       "      <th>document</th>\n",
       "      <th>summary</th>\n",
       "    </tr>\n",
       "  </thead>\n",
       "  <tbody>\n",
       "    <tr>\n",
       "      <th>0</th>\n",
       "      <td>b'officials of the cabinet-level fair trade co...</td>\n",
       "      <td>b'fair trade commission investigating consumer...</td>\n",
       "    </tr>\n",
       "    <tr>\n",
       "      <th>1</th>\n",
       "      <td>b\"five people were killed , and a woman gravel...</td>\n",
       "      <td>b'colombian nightclub shootout leaves five dead'</td>\n",
       "    </tr>\n",
       "    <tr>\n",
       "      <th>2</th>\n",
       "      <td>b'preliminary dna testing on remains of ## red...</td>\n",
       "      <td>b'estonia provides red army soldiers dna sampl...</td>\n",
       "    </tr>\n",
       "  </tbody>\n",
       "</table>\n",
       "</div>"
      ],
      "text/plain": [
       "                                            document  \\\n",
       "0  b'officials of the cabinet-level fair trade co...   \n",
       "1  b\"five people were killed , and a woman gravel...   \n",
       "2  b'preliminary dna testing on remains of ## red...   \n",
       "\n",
       "                                             summary  \n",
       "0  b'fair trade commission investigating consumer...  \n",
       "1   b'colombian nightclub shootout leaves five dead'  \n",
       "2  b'estonia provides red army soldiers dna sampl...  "
      ]
     },
     "execution_count": 197,
     "metadata": {},
     "output_type": "execute_result"
    }
   ],
   "source": [
    "gigawordDataset.head(3)"
   ]
  },
  {
   "cell_type": "code",
   "execution_count": 198,
   "id": "177c45f1",
   "metadata": {},
   "outputs": [
    {
     "data": {
      "text/plain": [
       "(10000, 2)"
      ]
     },
     "execution_count": 198,
     "metadata": {},
     "output_type": "execute_result"
    }
   ],
   "source": [
    "# 1. Renaming columns\n",
    "gigawordDataset = gigawordDataset.rename(columns={'document': 'text'})\n",
    "gigawordDatasetCopy = gigawordDataset.copy()\n",
    "gigawordDataset.shape"
   ]
  },
  {
   "cell_type": "code",
   "execution_count": 199,
   "id": "bd8947c2",
   "metadata": {},
   "outputs": [
    {
     "data": {
      "text/html": [
       "<div>\n",
       "<style scoped>\n",
       "    .dataframe tbody tr th:only-of-type {\n",
       "        vertical-align: middle;\n",
       "    }\n",
       "\n",
       "    .dataframe tbody tr th {\n",
       "        vertical-align: top;\n",
       "    }\n",
       "\n",
       "    .dataframe thead th {\n",
       "        text-align: right;\n",
       "    }\n",
       "</style>\n",
       "<table border=\"1\" class=\"dataframe\">\n",
       "  <thead>\n",
       "    <tr style=\"text-align: right;\">\n",
       "      <th></th>\n",
       "      <th>text</th>\n",
       "      <th>summary</th>\n",
       "    </tr>\n",
       "  </thead>\n",
       "  <tbody>\n",
       "    <tr>\n",
       "      <th>0</th>\n",
       "      <td>b'officials of the cabinet-level fair trade co...</td>\n",
       "      <td>b'fair trade commission investigating consumer...</td>\n",
       "    </tr>\n",
       "    <tr>\n",
       "      <th>1</th>\n",
       "      <td>b\"five people were killed , and a woman gravel...</td>\n",
       "      <td>b'colombian nightclub shootout leaves five dead'</td>\n",
       "    </tr>\n",
       "    <tr>\n",
       "      <th>2</th>\n",
       "      <td>b'preliminary dna testing on remains of ## red...</td>\n",
       "      <td>b'estonia provides red army soldiers dna sampl...</td>\n",
       "    </tr>\n",
       "  </tbody>\n",
       "</table>\n",
       "</div>"
      ],
      "text/plain": [
       "                                                text  \\\n",
       "0  b'officials of the cabinet-level fair trade co...   \n",
       "1  b\"five people were killed , and a woman gravel...   \n",
       "2  b'preliminary dna testing on remains of ## red...   \n",
       "\n",
       "                                             summary  \n",
       "0  b'fair trade commission investigating consumer...  \n",
       "1   b'colombian nightclub shootout leaves five dead'  \n",
       "2  b'estonia provides red army soldiers dna sampl...  "
      ]
     },
     "execution_count": 199,
     "metadata": {},
     "output_type": "execute_result"
    }
   ],
   "source": [
    "gigawordDataset.head(3)"
   ]
  },
  {
   "cell_type": "code",
   "execution_count": 200,
   "id": "5b17cfd1",
   "metadata": {},
   "outputs": [
    {
     "data": {
      "text/plain": [
       "(10000, 2)"
      ]
     },
     "execution_count": 200,
     "metadata": {},
     "output_type": "execute_result"
    }
   ],
   "source": [
    "# 2. Drop NA values\n",
    "gigawordDataset = gigawordDataset.dropna()\n",
    "gigawordDataset.shape"
   ]
  },
  {
   "cell_type": "code",
   "execution_count": 201,
   "id": "5518e7b3",
   "metadata": {},
   "outputs": [
    {
     "data": {
      "text/plain": [
       "(9994, 2)"
      ]
     },
     "execution_count": 201,
     "metadata": {},
     "output_type": "execute_result"
    }
   ],
   "source": [
    "# 3. Drop duplicates values\n",
    "gigawordDataset = gigawordDataset.drop_duplicates(\"text\")\n",
    "gigawordDataset.shape"
   ]
  },
  {
   "cell_type": "code",
   "execution_count": 202,
   "id": "66cfa235",
   "metadata": {},
   "outputs": [],
   "source": [
    "# 4. Converting to lowercase\n",
    "gigawordDataset['text'] = gigawordDataset['text'].apply(lambda x: x.lower())\n",
    "gigawordDataset['summary'] = gigawordDataset['summary'].apply(lambda x: x.lower())"
   ]
  },
  {
   "cell_type": "code",
   "execution_count": 203,
   "id": "7f3cf4c0",
   "metadata": {},
   "outputs": [],
   "source": [
    "# 7. Remove (b')\n",
    "import re\n",
    "def remove_s(text):\n",
    "    text = re.sub(\"b'\", \"\", text)\n",
    "    text = re.sub('b\"', \"\", text)\n",
    "    return text\n",
    "\n",
    "gigawordDataset['text'] = gigawordDataset['text'].apply(lambda x: remove_s(x))\n",
    "gigawordDataset['summary'] = gigawordDataset['summary'].apply(lambda x: remove_s(x))"
   ]
  },
  {
   "cell_type": "code",
   "execution_count": 204,
   "id": "0b1cb365",
   "metadata": {},
   "outputs": [
    {
     "name": "stderr",
     "output_type": "stream",
     "text": [
      "c:\\users\\hp\\appdata\\local\\programs\\python\\python37\\lib\\site-packages\\bs4\\__init__.py:439: MarkupResemblesLocatorWarning: The input looks more like a filename than markup. You may want to open this file and pass the filehandle into Beautiful Soup.\n",
      "  MarkupResemblesLocatorWarning\n"
     ]
    }
   ],
   "source": [
    "# 5. Remove HTML tags\n",
    "from bs4 import BeautifulSoup\n",
    "gigawordDataset['text'] = gigawordDataset['text'].apply(lambda x: BeautifulSoup(x, \"html.parser\").text)\n",
    "gigawordDataset['summary'] = gigawordDataset['summary'].apply(lambda x: BeautifulSoup(x, \"html.parser\").text)"
   ]
  },
  {
   "cell_type": "code",
   "execution_count": 205,
   "id": "03e0492c",
   "metadata": {},
   "outputs": [],
   "source": [
    "# 6. Contraction Mapping [Expansion] eg:- \"aren't\" ==> \"are not\"\n",
    "gigawordDataset['text'] = gigawordDataset['text'].apply(lambda x: [contractions.fix(word) for word in x.split()])\n",
    "gigawordDataset['text'] = gigawordDataset['text'].apply(lambda x: ' '.join(x))\n",
    "\n",
    "gigawordDataset['summary'] = gigawordDataset['summary'].apply(lambda x: [contractions.fix(word) for word in x.split()])\n",
    "gigawordDataset['summary'] = gigawordDataset['summary'].apply(lambda x: ' '.join(x))"
   ]
  },
  {
   "cell_type": "code",
   "execution_count": 206,
   "id": "5e272cee",
   "metadata": {},
   "outputs": [],
   "source": [
    "# 7. Remove (‘s)\n",
    "import re\n",
    "def remove_s(text):\n",
    "    text = re.sub(\"'s\", \"\", text)\n",
    "    return text\n",
    "\n",
    "gigawordDataset['text'] = gigawordDataset['text'].apply(lambda x: remove_s(x))\n",
    "gigawordDataset['summary'] = gigawordDataset['summary'].apply(lambda x: remove_s(x))"
   ]
  },
  {
   "cell_type": "code",
   "execution_count": 207,
   "id": "3b04d965",
   "metadata": {},
   "outputs": [],
   "source": [
    "# 8. Remove any text inside any form of parenthesis ( ) [] {} < >\n",
    "def remove_content_between_parenthsis(text):\n",
    "    return re.sub(r'\\([^)]*\\)', '', text)\n",
    "\n",
    "gigawordDataset['text'] = gigawordDataset['text'].apply(lambda x: remove_content_between_parenthsis(x))\n",
    "gigawordDataset['summary'] = gigawordDataset['summary'].apply(lambda x: remove_content_between_parenthsis(x))"
   ]
  },
  {
   "cell_type": "code",
   "execution_count": 208,
   "id": "9fdec3e9",
   "metadata": {},
   "outputs": [],
   "source": [
    "# 9. Eliminate punctuations and special characters\n",
    "import string\n",
    "def remove_punctuation(text):\n",
    "    translator = str.maketrans('', '', string.punctuation)\n",
    "    return text.translate(translator)\n",
    "\n",
    "gigawordDataset['text'] = gigawordDataset['text'].apply(lambda x: remove_punctuation(x))\n",
    "gigawordDataset['summary'] = gigawordDataset['summary'].apply(lambda x: remove_punctuation(x))"
   ]
  },
  {
   "cell_type": "code",
   "execution_count": 209,
   "id": "99f655f9",
   "metadata": {},
   "outputs": [],
   "source": [
    "# 11. Remove stopwords\n",
    "from nltk.corpus import stopwords\n",
    "stop_words = set(stopwords.words('english'))\n",
    "\n",
    "def remove_stopwords(text):\n",
    "    return ' '.join([word for word in text.split() if word not in stop_words])\n",
    "\n",
    "gigawordDataset['text'] = gigawordDataset['text'].apply(lambda x: remove_stopwords(x))\n",
    "gigawordDataset['summary'] = gigawordDataset['summary'].apply(lambda x: remove_stopwords(x))"
   ]
  },
  {
   "cell_type": "code",
   "execution_count": 210,
   "id": "2d53b0cc",
   "metadata": {},
   "outputs": [],
   "source": [
    "# 12. Remove short words\n",
    "def remove_shortwords(text):\n",
    "    return ' '.join([word for word in text.split() if len(word) > 2])\n",
    "\n",
    "gigawordDataset['text'] = gigawordDataset['text'].apply(lambda x: remove_shortwords(x))\n",
    "gigawordDataset['summary'] = gigawordDataset['summary'].apply(lambda x: remove_shortwords(x))"
   ]
  },
  {
   "cell_type": "code",
   "execution_count": 211,
   "id": "4d49f2b9",
   "metadata": {},
   "outputs": [
    {
     "data": {
      "text/plain": [
       "(9994, 2)"
      ]
     },
     "execution_count": 211,
     "metadata": {},
     "output_type": "execute_result"
    }
   ],
   "source": [
    "# 13. Remove the rows that have empty text or summary\n",
    "def remove_empty_rows(text, summary):\n",
    "    return (text != '') & (summary != '')\n",
    "\n",
    "gigawordDataset = gigawordDataset[gigawordDataset.apply(lambda x: remove_empty_rows(x['text'], x['summary']), axis=1)]\n",
    "gigawordDataset.shape"
   ]
  },
  {
   "cell_type": "code",
   "execution_count": 212,
   "id": "1f0c1e63",
   "metadata": {},
   "outputs": [],
   "source": [
    "# 14. remove extra lines and trim spaces\n",
    "def remove_extra_lines(text):\n",
    "    return text.strip()\n",
    "\n",
    "gigawordDataset['text'] = gigawordDataset['text'].apply(lambda x: remove_extra_lines(x))\n",
    "gigawordDataset['summary'] = gigawordDataset['summary'].apply(lambda x: remove_extra_lines(x))"
   ]
  },
  {
   "cell_type": "code",
   "execution_count": 213,
   "id": "ecd8ca05",
   "metadata": {},
   "outputs": [],
   "source": [
    "# 15. Removing Emojis from the text\n",
    "import re\n",
    "def remove_emojis(text):\n",
    "    return re.sub(r'[^\\x00-\\x7F]+', '', text)\n",
    "\n",
    "gigawordDataset['text'] = gigawordDataset['text'].apply(lambda x: remove_emojis(x))\n",
    "gigawordDataset['summary'] = gigawordDataset['summary'].apply(lambda x: remove_emojis(x))"
   ]
  },
  {
   "cell_type": "code",
   "execution_count": 214,
   "id": "53086915",
   "metadata": {},
   "outputs": [],
   "source": [
    "# 16. Removing URLs\n",
    "import re\n",
    "def remove_urls(text):\n",
    "    return re.sub(r'http\\S+', '', text)\n",
    "\n",
    "gigawordDataset['text'] = gigawordDataset['text'].apply(lambda x: remove_urls(x))\n",
    "gigawordDataset['summary'] = gigawordDataset['summary'].apply(lambda x: remove_urls(x))"
   ]
  },
  {
   "cell_type": "code",
   "execution_count": null,
   "id": "b5925836",
   "metadata": {},
   "outputs": [],
   "source": []
  },
  {
   "cell_type": "code",
   "execution_count": 215,
   "id": "752c0f01",
   "metadata": {},
   "outputs": [],
   "source": [
    "# Saving the cleaned data to a csv file\n",
    "gigawordDataset.to_csv('../../dataset/generalization/cleaned_gigaword_small.csv', index=False)"
   ]
  },
  {
   "cell_type": "code",
   "execution_count": 216,
   "id": "33d72f75",
   "metadata": {},
   "outputs": [
    {
     "data": {
      "text/plain": [
       "(9994, 2)"
      ]
     },
     "execution_count": 216,
     "metadata": {},
     "output_type": "execute_result"
    }
   ],
   "source": [
    "gigawordDataset.shape"
   ]
  },
  {
   "cell_type": "code",
   "execution_count": 217,
   "id": "29be7548",
   "metadata": {},
   "outputs": [
    {
     "data": {
      "text/plain": [
       "(10000, 2)"
      ]
     },
     "execution_count": 217,
     "metadata": {},
     "output_type": "execute_result"
    }
   ],
   "source": [
    "gigawordDatasetCopy.shape"
   ]
  },
  {
   "cell_type": "code",
   "execution_count": null,
   "id": "d6c51019",
   "metadata": {},
   "outputs": [],
   "source": []
  }
 ],
 "metadata": {
  "kernelspec": {
   "display_name": "Python 3.7.0 64-bit",
   "language": "python",
   "name": "python3"
  },
  "language_info": {
   "codemirror_mode": {
    "name": "ipython",
    "version": 3
   },
   "file_extension": ".py",
   "mimetype": "text/x-python",
   "name": "python",
   "nbconvert_exporter": "python",
   "pygments_lexer": "ipython3",
   "version": "3.7.0"
  },
  "vscode": {
   "interpreter": {
    "hash": "356734b0b4e05b3af569ed06eb258f6ef66038e7268c6bdbb97ecd1a1c609e88"
   }
  }
 },
 "nbformat": 4,
 "nbformat_minor": 5
}
